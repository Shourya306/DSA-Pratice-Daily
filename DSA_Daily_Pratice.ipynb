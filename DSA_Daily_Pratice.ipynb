{
  "nbformat": 4,
  "nbformat_minor": 0,
  "metadata": {
    "colab": {
      "name": "DSA Daily Pratice.ipynb",
      "provenance": [],
      "collapsed_sections": [],
      "authorship_tag": "ABX9TyOcn2fBz+MyEaNnM+2iP6Sg",
      "include_colab_link": true
    },
    "kernelspec": {
      "name": "python3",
      "display_name": "Python 3"
    },
    "language_info": {
      "name": "python"
    }
  },
  "cells": [
    {
      "cell_type": "markdown",
      "metadata": {
        "id": "view-in-github",
        "colab_type": "text"
      },
      "source": [
        "<a href=\"https://colab.research.google.com/github/Shourya306/DSA-Pratice-Daily/blob/main/DSA_Daily_Pratice.ipynb\" target=\"_parent\"><img src=\"https://colab.research.google.com/assets/colab-badge.svg\" alt=\"Open In Colab\"/></a>"
      ]
    },
    {
      "cell_type": "markdown",
      "source": [
        "**Product of All**\n",
        "\n",
        "Given an integer array A.\n",
        "Create an array B such that Bi is the product of all elements of A excluding Ai.\n",
        "Since the products can be too large take modulo 109 +7.\n",
        "\n",
        "Input 1:\n",
        "A = [1, 2, 3, 4]\n",
        "\n",
        "Input 2:\n",
        "\n",
        "A = [9, 9, 9]\n",
        "\n",
        "Output 1:\n",
        "\n",
        "[24, 12, 8, 6]\n",
        "\n",
        "Output 2:\n",
        "\n",
        "[81, 81, 81]"
      ],
      "metadata": {
        "id": "nWU5ybCmQgiX"
      }
    },
    {
      "cell_type": "code",
      "source": [
        "def product(A):\n",
        "  import numpy\n",
        "  product = []\n",
        "  m = 1\n",
        "  for i in A:\n",
        "    product.append(numpy.prod(A[A.index(i)+1:] + A[:A.index(i)]))\n",
        "  return product"
      ],
      "metadata": {
        "id": "8cEWSf7TOTFu"
      },
      "execution_count": 9,
      "outputs": []
    },
    {
      "cell_type": "code",
      "source": [
        "product([9, 9, 9])"
      ],
      "metadata": {
        "colab": {
          "base_uri": "https://localhost:8080/"
        },
        "id": "C1gCj3GPOYNA",
        "outputId": "82b078eb-b25d-4dea-caaf-9fd055d2761b"
      },
      "execution_count": 11,
      "outputs": [
        {
          "output_type": "execute_result",
          "data": {
            "text/plain": [
              "[81, 81, 81]"
            ]
          },
          "metadata": {},
          "execution_count": 11
        }
      ]
    }
  ]
}