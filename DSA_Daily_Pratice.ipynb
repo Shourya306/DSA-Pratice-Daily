{
  "nbformat": 4,
  "nbformat_minor": 0,
  "metadata": {
    "colab": {
      "name": "DSA Daily Pratice.ipynb",
      "provenance": [],
      "authorship_tag": "ABX9TyPIc/OKzYJm0oVNNYy1paiQ",
      "include_colab_link": true
    },
    "kernelspec": {
      "name": "python3",
      "display_name": "Python 3"
    },
    "language_info": {
      "name": "python"
    }
  },
  "cells": [
    {
      "cell_type": "markdown",
      "metadata": {
        "id": "view-in-github",
        "colab_type": "text"
      },
      "source": [
        "<a href=\"https://colab.research.google.com/github/Shourya306/DSA-Pratice-Daily/blob/main/DSA_Daily_Pratice.ipynb\" target=\"_parent\"><img src=\"https://colab.research.google.com/assets/colab-badge.svg\" alt=\"Open In Colab\"/></a>"
      ]
    },
    {
      "cell_type": "markdown",
      "source": [
        "**Frequency_of_Characters**\n",
        "\n",
        "Given a string A, find the frequency of all the characters in it.\n",
        "\n",
        "Input 1:\n",
        "\n",
        "A = \"abcdefghijklmnopqrstuvwxyz\"\n",
        "\n",
        "Input 2:\n",
        "\n",
        "A = \"interviewbit\"\n",
        "\n",
        "Output 1:\n",
        "\n",
        "[1, 1, 1, 1, 1, 1, 1, 1, 1, 1, 1, 1, 1, 1, 1, 1, 1, 1, 1, 1, 1, 1, 1, 1, 1, 1]\n",
        "\n",
        "Output 2:\n",
        "\n",
        "[0, 1, 0, 0, 2, 0, 0, 0, 3, 0, 0, 0, 0, 1, 0, 0, 0, 1, 0, 2, 0, 1, 1, 0, 0, 0]"
      ],
      "metadata": {
        "id": "JGA7XsWHplW4"
      }
    },
    {
      "cell_type": "code",
      "source": [
        "def Frequency_of_Characters(string):\n",
        "  A = 'abcdefghijklmnopqrstuvwqyz'\n",
        "  freq = []\n",
        "  for i in A:\n",
        "    freq.append(string.count(i))\n",
        "  return freq\n"
      ],
      "metadata": {
        "id": "mrBNoEsDvNnx"
      },
      "execution_count": 18,
      "outputs": []
    },
    {
      "cell_type": "code",
      "source": [
        "Frequency_of_Characters(\"interviewbit\")"
      ],
      "metadata": {
        "colab": {
          "base_uri": "https://localhost:8080/"
        },
        "id": "atO5MvcsdMEU",
        "outputId": "003b514f-b380-4bca-f751-e81b7dfd3075"
      },
      "execution_count": 19,
      "outputs": [
        {
          "output_type": "execute_result",
          "data": {
            "text/plain": [
              "[0, 1, 0, 0, 2, 0, 0, 0, 3, 0, 0, 0, 0, 1, 0, 0, 0, 1, 0, 2, 0, 1, 1, 0, 0, 0]"
            ]
          },
          "metadata": {},
          "execution_count": 19
        }
      ]
    }
  ]
}