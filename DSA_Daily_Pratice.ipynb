{
  "nbformat": 4,
  "nbformat_minor": 0,
  "metadata": {
    "colab": {
      "name": "DSA Daily Pratice.ipynb",
      "provenance": [],
      "collapsed_sections": [],
      "authorship_tag": "ABX9TyOeDI1vjVl3sOCZGRuIiilY",
      "include_colab_link": true
    },
    "kernelspec": {
      "name": "python3",
      "display_name": "Python 3"
    },
    "language_info": {
      "name": "python"
    }
  },
  "cells": [
    {
      "cell_type": "markdown",
      "metadata": {
        "id": "view-in-github",
        "colab_type": "text"
      },
      "source": [
        "<a href=\"https://colab.research.google.com/github/Shourya306/DSA-Pratice-Daily/blob/main/DSA_Daily_Pratice.ipynb\" target=\"_parent\"><img src=\"https://colab.research.google.com/assets/colab-badge.svg\" alt=\"Open In Colab\"/></a>"
      ]
    },
    {
      "cell_type": "markdown",
      "source": [
        "**Max Min**\n",
        "\n",
        "Problem Description\n",
        "\n",
        "Given an array A of size N. You need to find the sum of Maximum and Minimum element in the given array.\n",
        "\n",
        "Input 1:\n",
        "\n",
        " A = [-2, 1, -4, 5, 3]\n",
        "\n",
        " Input 2:\n",
        "\n",
        " A = [1, 3, 4, 1]\n",
        "\n",
        " Output 1:\n",
        "\n",
        " 1\n",
        "Output 2:\n",
        "\n",
        " 5\n",
        "\n"
      ],
      "metadata": {
        "id": "fxvcJ5Qe3uBZ"
      }
    },
    {
      "cell_type": "code",
      "source": [
        "def max_min(A):\n",
        "  maxi = max(A)\n",
        "  mini = min(A)\n",
        "  return maxi - mini\n"
      ],
      "metadata": {
        "id": "F_MQvRN-0d03"
      },
      "execution_count": 12,
      "outputs": []
    },
    {
      "cell_type": "code",
      "source": [
        "max_min([-2,1,-4,5,3])"
      ],
      "metadata": {
        "colab": {
          "base_uri": "https://localhost:8080/"
        },
        "id": "QEec2dIy2Emc",
        "outputId": "aa59a1f5-d398-49f2-af19-efde31b692db"
      },
      "execution_count": 13,
      "outputs": [
        {
          "output_type": "execute_result",
          "data": {
            "text/plain": [
              "9"
            ]
          },
          "metadata": {},
          "execution_count": 13
        }
      ]
    },
    {
      "cell_type": "code",
      "source": [
        "# Another Approach.\n",
        "def max_min(A):\n",
        "  maxi = float('-inf')\n",
        "  mini = float('inf')\n",
        "  for i in A:\n",
        "    if i >= maxi:\n",
        "      maxi = i\n",
        "    elif i <= mini:\n",
        "      mini = i\n",
        "  return maxi + mini"
      ],
      "metadata": {
        "id": "fDTvTrqQ8zXt"
      },
      "execution_count": 36,
      "outputs": []
    },
    {
      "cell_type": "code",
      "source": [
        "max_min([1, 3, 4, 1])"
      ],
      "metadata": {
        "colab": {
          "base_uri": "https://localhost:8080/"
        },
        "id": "bR1spY0m9I_l",
        "outputId": "0008e51d-6839-4f14-e75e-f4cef0f8a53e"
      },
      "execution_count": 37,
      "outputs": [
        {
          "output_type": "execute_result",
          "data": {
            "text/plain": [
              "5"
            ]
          },
          "metadata": {},
          "execution_count": 37
        }
      ]
    },
    {
      "cell_type": "code",
      "source": [
        ""
      ],
      "metadata": {
        "id": "WyQOGeT99K4n"
      },
      "execution_count": null,
      "outputs": []
    }
  ]
}