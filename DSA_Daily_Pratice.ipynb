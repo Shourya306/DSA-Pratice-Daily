{
  "nbformat": 4,
  "nbformat_minor": 0,
  "metadata": {
    "colab": {
      "name": "DSA Daily Pratice.ipynb",
      "provenance": [],
      "collapsed_sections": [],
      "authorship_tag": "ABX9TyOoazim70URuNLfcttIMAeG",
      "include_colab_link": true
    },
    "kernelspec": {
      "name": "python3",
      "display_name": "Python 3"
    },
    "language_info": {
      "name": "python"
    }
  },
  "cells": [
    {
      "cell_type": "markdown",
      "metadata": {
        "id": "view-in-github",
        "colab_type": "text"
      },
      "source": [
        "<a href=\"https://colab.research.google.com/github/Shourya306/DSA-Pratice-Daily/blob/main/DSA_Daily_Pratice.ipynb\" target=\"_parent\"><img src=\"https://colab.research.google.com/assets/colab-badge.svg\" alt=\"Open In Colab\"/></a>"
      ]
    },
    {
      "cell_type": "markdown",
      "source": [
        "**Palindrome String**\n",
        "\n",
        "\n",
        "\n",
        "Given a string, determine if it is a palindrome. While checking for a palindrome, you have to ignore spaces, case, and all special characters; i.e. consider only alphanumeric characters.\n",
        "\n",
        "Check the sample test case for reference.\n",
        "\n",
        "Example:\n",
        "\n",
        "Input 1:\n",
        "\n",
        "\"A man, a plan, a canal: Panama\"\n",
        "\n",
        "Input 2:\n",
        "\n",
        "\"race a car\"\n",
        "\n",
        "Output and Explanation 1:\n",
        "\n",
        "1\n",
        "\n",
        "The input string after ignoring spaces, and all special characters is \"AmanaplanacanalPanama\" which is a palindrome after ignoring the case.\n",
        "\n",
        "Output and Explanation 2:\n",
        "\n",
        "0\n",
        "\n",
        "The input string after ignoring spaces, and all special characters is \"raceacar\" which is not a palindrome\n",
        "\n",
        " \n",
        "\n",
        "Return 0 / 1 ( 0 for false, 1 for true ) for this problem"
      ],
      "metadata": {
        "id": "PFneAWh4Lq7U"
      }
    },
    {
      "cell_type": "code",
      "source": [
        "import string"
      ],
      "metadata": {
        "id": "hHAQQsHiHGvr"
      },
      "execution_count": 50,
      "outputs": []
    },
    {
      "cell_type": "code",
      "source": [
        "string.punctuation"
      ],
      "metadata": {
        "colab": {
          "base_uri": "https://localhost:8080/",
          "height": 35
        },
        "id": "xlFStp2nHNDI",
        "outputId": "0b65917a-c3a0-4b19-a7ee-9b222f55d076"
      },
      "execution_count": null,
      "outputs": [
        {
          "output_type": "execute_result",
          "data": {
            "text/plain": [
              "'!\"#$%&\\'()*+,-./:;<=>?@[\\\\]^_`{|}~'"
            ],
            "application/vnd.google.colaboratory.intrinsic+json": {
              "type": "string"
            }
          },
          "metadata": {},
          "execution_count": 24
        }
      ]
    },
    {
      "cell_type": "code",
      "source": [
        "def Palindrome(a):\n",
        "  empty_string = ''\n",
        "  for letter in a:\n",
        "    if letter not in string.punctuation:\n",
        "      if letter not in ' ':\n",
        "        empty_string = empty_string + letter\n",
        "  print(empty_string)\n",
        "  if empty_string.lower() == empty_string[::-1].lower():\n",
        "    return 1\n",
        "  else:\n",
        "    return 0"
      ],
      "metadata": {
        "id": "-xQaGRfQHRWi"
      },
      "execution_count": 59,
      "outputs": []
    },
    {
      "cell_type": "code",
      "source": [
        "Palindrome('race a car')"
      ],
      "metadata": {
        "colab": {
          "base_uri": "https://localhost:8080/"
        },
        "id": "pLQgINd_HuFd",
        "outputId": "4370b3ce-04ea-4d6c-e71e-2217da91cff0"
      },
      "execution_count": 61,
      "outputs": [
        {
          "output_type": "stream",
          "name": "stdout",
          "text": [
            "raceacar\n"
          ]
        },
        {
          "output_type": "execute_result",
          "data": {
            "text/plain": [
              "0"
            ]
          },
          "metadata": {},
          "execution_count": 61
        }
      ]
    },
    {
      "cell_type": "code",
      "source": [
        "Palindrome(\"A man, a plan, a canal: Panama\")"
      ],
      "metadata": {
        "colab": {
          "base_uri": "https://localhost:8080/"
        },
        "id": "V_is6zmMJA0M",
        "outputId": "2cf60219-04fd-4a2f-fa2f-dfb475bcbede"
      },
      "execution_count": 60,
      "outputs": [
        {
          "output_type": "stream",
          "name": "stdout",
          "text": [
            "AmanaplanacanalPanama\n"
          ]
        },
        {
          "output_type": "execute_result",
          "data": {
            "text/plain": [
              "1"
            ]
          },
          "metadata": {},
          "execution_count": 60
        }
      ]
    }
  ]
}