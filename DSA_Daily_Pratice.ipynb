{
  "nbformat": 4,
  "nbformat_minor": 0,
  "metadata": {
    "colab": {
      "name": "DSA Daily Pratice.ipynb",
      "provenance": [],
      "authorship_tag": "ABX9TyPPmqpt8eiMrUeJtCLSmDoy",
      "include_colab_link": true
    },
    "kernelspec": {
      "name": "python3",
      "display_name": "Python 3"
    },
    "language_info": {
      "name": "python"
    }
  },
  "cells": [
    {
      "cell_type": "markdown",
      "metadata": {
        "id": "view-in-github",
        "colab_type": "text"
      },
      "source": [
        "<a href=\"https://colab.research.google.com/github/Shourya306/DSA-Pratice-Daily/blob/main/DSA_Daily_Pratice.ipynb\" target=\"_parent\"><img src=\"https://colab.research.google.com/assets/colab-badge.svg\" alt=\"Open In Colab\"/></a>"
      ]
    },
    {
      "cell_type": "markdown",
      "source": [
        "Given a string A consisting of only characters 'a' and 'b'.\n",
        "Divide the string into substrings of length B.\n",
        "Find the subtring with maximum count of 'a' and return the count.\n",
        "\n",
        "Note: If the length of the string is not a multiple of B and there are some characters left in the end consider them also as a substring.\n",
        "\n",
        "Input 1:\n",
        "\n",
        "A = \"baab\"\n",
        "\n",
        "B = 2\n",
        "\n",
        "Input 2:\n",
        "\n",
        "A = \"bba\"\n",
        "\n",
        "B = 2"
      ],
      "metadata": {
        "id": "l199ZVBXjrdM"
      }
    },
    {
      "cell_type": "code",
      "execution_count": null,
      "metadata": {
        "id": "QiN207zGjiCk"
      },
      "outputs": [],
      "source": [
        "# Step 1 Dividing the string 'A' with an integer 'B'\n",
        "def maximum_substring(A,B):\n",
        "  x = round(len(A) / B)\n",
        "  string1 = A[:x - 1]\n",
        "  string2 = A[(x):]\n",
        "# Step 2 Returning the max counts of a in a particular string.\n",
        "  if string1.count('a') > string2.count('a'):\n",
        "    return string1.count('a')\n",
        "  else:\n",
        "    return string2.count('a')"
      ]
    },
    {
      "cell_type": "code",
      "source": [
        "maximum_substring('baaba',2)"
      ],
      "metadata": {
        "id": "UbVg5WcvjpIK"
      },
      "execution_count": null,
      "outputs": []
    }
  ]
}