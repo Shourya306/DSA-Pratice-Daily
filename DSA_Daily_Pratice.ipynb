{
  "nbformat": 4,
  "nbformat_minor": 0,
  "metadata": {
    "colab": {
      "provenance": [],
      "collapsed_sections": [],
      "authorship_tag": "ABX9TyO4nXmFFaslhKRVOgJa6y1k",
      "include_colab_link": true
    },
    "kernelspec": {
      "name": "python3",
      "display_name": "Python 3"
    },
    "language_info": {
      "name": "python"
    }
  },
  "cells": [
    {
      "cell_type": "markdown",
      "metadata": {
        "id": "view-in-github",
        "colab_type": "text"
      },
      "source": [
        "<a href=\"https://colab.research.google.com/github/Shourya306/DSA-Pratice-Daily/blob/main/DSA_Daily_Pratice.ipynb\" target=\"_parent\"><img src=\"https://colab.research.google.com/assets/colab-badge.svg\" alt=\"Open In Colab\"/></a>"
      ]
    },
    {
      "cell_type": "markdown",
      "source": [
        "**Set Matrix Zero**\n",
        "\n",
        "Given a matrix, A of size M x N of 0s and 1s. If an element is 0, set its entire row and column to 0.\n",
        "Note: This will be evaluated on the extra memory used. Try to minimize the space and time complexity.\n",
        "\n",
        "Input Format:\n",
        "\n",
        "The first and the only argument of input contains a 2-d integer matrix, A, of size M x N.\n",
        "Output Format:\n",
        "\n",
        "Return a 2-d matrix that satisfies the given conditions.\n",
        "\n",
        "Examples:\n",
        "\n",
        "Input 1:\n",
        "    [   [1, 0, 1],\n",
        "        [1, 1, 1], \n",
        "        [1, 1, 1]   ]\n",
        "\n",
        "\n",
        "Output 1:\n",
        "    [   [0, 0, 0],\n",
        "        [1, 0, 1],\n",
        "        [1, 0, 1]   ]\n",
        "\n",
        "\n",
        "\n",
        "Input 2:\n",
        "    [   [1, 0, 1],\n",
        "        [1, 1, 1],\n",
        "        [1, 0, 1]   ]\n",
        "\n",
        "\n",
        "\n",
        "Output 2:\n",
        "    [   [0, 0, 0],\n",
        "        [1, 0, 1],\n",
        "        [0, 0, 0]   ]"
      ],
      "metadata": {
        "id": "0ZEKuV6PIvCK"
      }
    },
    {
      "cell_type": "code",
      "source": [
        "def set_zeros(A):\n",
        "  row = set()\n",
        "  col = set()\n",
        "  for i in range(len(A)):\n",
        "    for j in range(len(A[0])):\n",
        "      if A[i][j] == 0:\n",
        "        row.add(i)\n",
        "        col.add(j)\n",
        "  for i in row:\n",
        "    for j in range(len(A[0])):\n",
        "      A[i][j] = 0\n",
        "  for j in col:\n",
        "    for i in range(len(A)):\n",
        "      A[i][j] = 0\n",
        "  return A"
      ],
      "metadata": {
        "id": "0SNzQHK-FR_F"
      },
      "execution_count": 14,
      "outputs": []
    },
    {
      "cell_type": "code",
      "source": [
        "set_zeros([[1, 0, 1],[1, 1, 1],[1, 0, 1]])"
      ],
      "metadata": {
        "colab": {
          "base_uri": "https://localhost:8080/"
        },
        "id": "JjuH5PQbIiOY",
        "outputId": "b518ec46-248a-4a4d-a184-bab99193c1f8"
      },
      "execution_count": 15,
      "outputs": [
        {
          "output_type": "execute_result",
          "data": {
            "text/plain": [
              "[[0, 0, 0], [1, 0, 1], [0, 0, 0]]"
            ]
          },
          "metadata": {},
          "execution_count": 15
        }
      ]
    },
    {
      "cell_type": "code",
      "source": [],
      "metadata": {
        "id": "LpH5oVWtIrhK"
      },
      "execution_count": null,
      "outputs": []
    }
  ]
}