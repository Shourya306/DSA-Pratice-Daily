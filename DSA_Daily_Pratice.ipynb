{
  "nbformat": 4,
  "nbformat_minor": 0,
  "metadata": {
    "colab": {
      "name": "DSA Daily Pratice.ipynb",
      "provenance": [],
      "collapsed_sections": [],
      "authorship_tag": "ABX9TyNnKX8Lr4iiSJltpyfVTKcf",
      "include_colab_link": true
    },
    "kernelspec": {
      "name": "python3",
      "display_name": "Python 3"
    },
    "language_info": {
      "name": "python"
    }
  },
  "cells": [
    {
      "cell_type": "markdown",
      "metadata": {
        "id": "view-in-github",
        "colab_type": "text"
      },
      "source": [
        "<a href=\"https://colab.research.google.com/github/Shourya306/DSA-Pratice-Daily/blob/main/DSA_Daily_Pratice.ipynb\" target=\"_parent\"><img src=\"https://colab.research.google.com/assets/colab-badge.svg\" alt=\"Open In Colab\"/></a>"
      ]
    },
    {
      "cell_type": "markdown",
      "source": [
        "**Amazing Subarrays**\n",
        "\n",
        "You are given a string S, and you have to find all the amazing substrings of S.\n",
        "\n",
        "Amazing Substring is one that starts with a vowel (a, e, i, o, u, A, E, I, O, U).\n",
        "\n"
      ],
      "metadata": {
        "id": "Kj3zPxBi1biq"
      }
    },
    {
      "cell_type": "code",
      "source": [
        "# Importing permutations because order doesn't matter here.\n",
        "from itertools import combinations"
      ],
      "metadata": {
        "id": "wesMw3wCyE5J"
      },
      "execution_count": 31,
      "outputs": []
    },
    {
      "cell_type": "code",
      "source": [
        "def Amazing_Subarrays(S):\n",
        "\n",
        "  count = 0\n",
        "  amazing_list = []\n",
        "  for i in range(1,len(S)+1):\n",
        "    for iter in combinations(S,i):\n",
        "      amazing_list.append(iter)\n",
        "  print(amazing_list)\n",
        "  for substrings in amazing_list:\n",
        "    if substrings[0] in 'aeiouAEIOU':\n",
        "      count = count + 1\n",
        "  return count"
      ],
      "metadata": {
        "id": "OLoWzeITyOGj"
      },
      "execution_count": 35,
      "outputs": []
    },
    {
      "cell_type": "code",
      "source": [
        "Amazing_Subarrays('ABEC')"
      ],
      "metadata": {
        "colab": {
          "base_uri": "https://localhost:8080/"
        },
        "id": "u_jjC6UkzCXm",
        "outputId": "a3abe9b3-5ca6-4d49-b9be-1ef6939ba4c6"
      },
      "execution_count": 36,
      "outputs": [
        {
          "output_type": "stream",
          "name": "stdout",
          "text": [
            "[('A',), ('B',), ('E',), ('C',), ('A', 'B'), ('A', 'E'), ('A', 'C'), ('B', 'E'), ('B', 'C'), ('E', 'C'), ('A', 'B', 'E'), ('A', 'B', 'C'), ('A', 'E', 'C'), ('B', 'E', 'C'), ('A', 'B', 'E', 'C')]\n"
          ]
        },
        {
          "output_type": "execute_result",
          "data": {
            "text/plain": [
              "10"
            ]
          },
          "metadata": {},
          "execution_count": 36
        }
      ]
    }
  ]
}