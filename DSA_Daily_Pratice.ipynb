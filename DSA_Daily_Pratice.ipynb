{
  "nbformat": 4,
  "nbformat_minor": 0,
  "metadata": {
    "colab": {
      "name": "DSA Daily Pratice.ipynb",
      "provenance": [],
      "collapsed_sections": [],
      "authorship_tag": "ABX9TyONIgeT2a55a+QJOi0ZtTAh",
      "include_colab_link": true
    },
    "kernelspec": {
      "name": "python3",
      "display_name": "Python 3"
    },
    "language_info": {
      "name": "python"
    }
  },
  "cells": [
    {
      "cell_type": "markdown",
      "metadata": {
        "id": "view-in-github",
        "colab_type": "text"
      },
      "source": [
        "<a href=\"https://colab.research.google.com/github/Shourya306/DSA-Pratice-Daily/blob/main/DSA_Daily_Pratice.ipynb\" target=\"_parent\"><img src=\"https://colab.research.google.com/assets/colab-badge.svg\" alt=\"Open In Colab\"/></a>"
      ]
    },
    {
      "cell_type": "markdown",
      "source": [
        "**Length of Last Word**\n",
        "\n",
        "Given a string s consists of upper/lower-case alphabets and empty space characters ' ', return the length of last word in the string.\n",
        "\n",
        "If the last word does not exist, return 0.\n",
        "\n",
        "Note: A word is defined as a character sequence consists of non-space characters only.\n",
        "\n",
        "Example:\n",
        "\n",
        "Given s = \"Hello World\",\n",
        "\n",
        "\n",
        "return 5 as length(\"World\") = 5."
      ],
      "metadata": {
        "id": "L5wni7HY7QCz"
      }
    },
    {
      "cell_type": "code",
      "source": [
        "def last_word(s):\n",
        "  list_of_words = s.split()\n",
        "  return len(list_of_words[-1])"
      ],
      "metadata": {
        "id": "oJMu9afS3Td-"
      },
      "execution_count": 1,
      "outputs": []
    },
    {
      "cell_type": "code",
      "source": [
        "last_word(\"Hello World\")"
      ],
      "metadata": {
        "colab": {
          "base_uri": "https://localhost:8080/"
        },
        "id": "FymukkE13hEi",
        "outputId": "48251356-d1d9-46cf-9033-0664a2bd9531"
      },
      "execution_count": 2,
      "outputs": [
        {
          "output_type": "execute_result",
          "data": {
            "text/plain": [
              "5"
            ]
          },
          "metadata": {},
          "execution_count": 2
        }
      ]
    }
  ]
}