{
  "nbformat": 4,
  "nbformat_minor": 0,
  "metadata": {
    "colab": {
      "name": "DSA Daily Pratice.ipynb",
      "provenance": [],
      "collapsed_sections": [],
      "authorship_tag": "ABX9TyNFIe6cvk4ySmIMDMOGhX9A",
      "include_colab_link": true
    },
    "kernelspec": {
      "name": "python3",
      "display_name": "Python 3"
    },
    "language_info": {
      "name": "python"
    }
  },
  "cells": [
    {
      "cell_type": "markdown",
      "metadata": {
        "id": "view-in-github",
        "colab_type": "text"
      },
      "source": [
        "<a href=\"https://colab.research.google.com/github/Shourya306/DSA-Pratice-Daily/blob/main/DSA_Daily_Pratice.ipynb\" target=\"_parent\"><img src=\"https://colab.research.google.com/assets/colab-badge.svg\" alt=\"Open In Colab\"/></a>"
      ]
    },
    {
      "cell_type": "code",
      "source": [
        "def Minimum_Parantheses(A):\n",
        "  open_count = 0\n",
        "  closed_count = 0\n",
        "  for i in A:\n",
        "    if i == '(':\n",
        "      open_count = open_count + 1\n",
        "    else:\n",
        "      closed_count = closed_count + 1\n",
        "  if open_count == closed_count:\n",
        "    return 0\n",
        "  elif open_count > closed_count:\n",
        "    return open_count - closed_count\n",
        "  else:\n",
        "    return closed_count - open_count"
      ],
      "metadata": {
        "id": "_x712rVIKWQq"
      },
      "execution_count": 1,
      "outputs": []
    },
    {
      "cell_type": "code",
      "source": [
        "Minimum_Parantheses(\"())\")"
      ],
      "metadata": {
        "colab": {
          "base_uri": "https://localhost:8080/"
        },
        "id": "ATetgPlGN9mr",
        "outputId": "2620288f-a449-48b9-a3bc-b717d31f594e"
      },
      "execution_count": 2,
      "outputs": [
        {
          "output_type": "execute_result",
          "data": {
            "text/plain": [
              "1"
            ]
          },
          "metadata": {},
          "execution_count": 2
        }
      ]
    },
    {
      "cell_type": "code",
      "source": [
        "Minimum_Parantheses(\"(((\")"
      ],
      "metadata": {
        "colab": {
          "base_uri": "https://localhost:8080/"
        },
        "id": "S0_2W50lOFEX",
        "outputId": "acc886c9-e5a7-4475-9285-4688c4fa9368"
      },
      "execution_count": 3,
      "outputs": [
        {
          "output_type": "execute_result",
          "data": {
            "text/plain": [
              "3"
            ]
          },
          "metadata": {},
          "execution_count": 3
        }
      ]
    },
    {
      "cell_type": "code",
      "source": [
        ""
      ],
      "metadata": {
        "id": "FRJm60UVOJvB"
      },
      "execution_count": null,
      "outputs": []
    }
  ]
}