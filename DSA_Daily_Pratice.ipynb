{
  "nbformat": 4,
  "nbformat_minor": 0,
  "metadata": {
    "colab": {
      "provenance": [],
      "collapsed_sections": [],
      "authorship_tag": "ABX9TyNk8dp9hWQiwlmGms/E6n1g",
      "include_colab_link": true
    },
    "kernelspec": {
      "name": "python3",
      "display_name": "Python 3"
    },
    "language_info": {
      "name": "python"
    }
  },
  "cells": [
    {
      "cell_type": "markdown",
      "metadata": {
        "id": "view-in-github",
        "colab_type": "text"
      },
      "source": [
        "<a href=\"https://colab.research.google.com/github/Shourya306/DSA-Pratice-Daily/blob/main/DSA_Daily_Pratice.ipynb\" target=\"_parent\"><img src=\"https://colab.research.google.com/assets/colab-badge.svg\" alt=\"Open In Colab\"/></a>"
      ]
    },
    {
      "cell_type": "markdown",
      "source": [
        "**Longest Consecutive Sequence**\n",
        "\n",
        "Given an unsorted array of integers, find the length of the longest consecutive elements sequence.\n",
        "\n",
        "Example: \n",
        "\n",
        "Given [100, 4, 200, 1, 3, 2],\n",
        "\n",
        "The longest consecutive elements sequence is [1, 2, 3, 4]. Return its length: 4."
      ],
      "metadata": {
        "id": "ZLT7BP5Oz85M"
      }
    },
    {
      "cell_type": "code",
      "source": [
        "def longestConsecutive(A):\n",
        "  A = sorted(A)\n",
        "  con_list = [A[0]]\n",
        "  m = A[0]\n",
        "  for i in A[1:]:\n",
        "    if i - m == 1:\n",
        "      con_list.append(i)\n",
        "      m = i\n",
        "  return len(con_list)"
      ],
      "metadata": {
        "id": "LpHCGp9HukPn"
      },
      "execution_count": 20,
      "outputs": []
    },
    {
      "cell_type": "code",
      "source": [
        "longestConsecutive([100, 4, 200, 1, 3, 2])"
      ],
      "metadata": {
        "colab": {
          "base_uri": "https://localhost:8080/"
        },
        "id": "xqAYGJ8RvTtk",
        "outputId": "59368fe3-cc98-4497-863a-f1e66a920716"
      },
      "execution_count": 22,
      "outputs": [
        {
          "output_type": "execute_result",
          "data": {
            "text/plain": [
              "4"
            ]
          },
          "metadata": {},
          "execution_count": 22
        }
      ]
    }
  ]
}