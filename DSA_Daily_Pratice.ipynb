{
  "nbformat": 4,
  "nbformat_minor": 0,
  "metadata": {
    "colab": {
      "name": "DSA Daily Pratice.ipynb",
      "provenance": [],
      "collapsed_sections": [],
      "authorship_tag": "ABX9TyMSqEopSWqiU15D0TnvoN2W",
      "include_colab_link": true
    },
    "kernelspec": {
      "name": "python3",
      "display_name": "Python 3"
    },
    "language_info": {
      "name": "python"
    }
  },
  "cells": [
    {
      "cell_type": "markdown",
      "metadata": {
        "id": "view-in-github",
        "colab_type": "text"
      },
      "source": [
        "<a href=\"https://colab.research.google.com/github/Shourya306/DSA-Pratice-Daily/blob/main/DSA_Daily_Pratice.ipynb\" target=\"_parent\"><img src=\"https://colab.research.google.com/assets/colab-badge.svg\" alt=\"Open In Colab\"/></a>"
      ]
    },
    {
      "cell_type": "markdown",
      "source": [
        "**First Repeating element**\n",
        "\n",
        "Problem Description\n",
        "\n",
        "Given an integer array A of size N, find the first repeating element in it.\n",
        "\n",
        "We need to find the element that occurs more than once and whose index of first occurrence is smallest.\n",
        "\n",
        "If there is no repeating element, return -1.\n",
        "\n",
        "Input 1:\n",
        "\n",
        " A = [10, 5, 3, 4, 3, 5, 6]\n",
        "\n",
        "Input 2:\n",
        "\n",
        " A = [6, 10, 5, 4, 9, 120]\n",
        "\n",
        "Output 1:\n",
        "\n",
        " 5\n",
        " \n",
        "Output 2:\n",
        "\n",
        " -1"
      ],
      "metadata": {
        "id": "fxvcJ5Qe3uBZ"
      }
    },
    {
      "cell_type": "code",
      "source": [
        "def First_Repeating_element(A):\n",
        "  list_of_freq = []\n",
        "  for i in A:\n",
        "    list_of_freq.append(A.count(i))\n",
        "  if sum(list_of_freq) != len(A):\n",
        "    max_freq = max(list_of_freq)\n",
        "    return A[max_freq - 1]\n",
        "  else:\n",
        "    return -1\n",
        "  "
      ],
      "metadata": {
        "id": "F_MQvRN-0d03"
      },
      "execution_count": 38,
      "outputs": []
    },
    {
      "cell_type": "code",
      "source": [
        "First_Repeating_element([10, 5, 3, 4, 3, 5, 6])"
      ],
      "metadata": {
        "colab": {
          "base_uri": "https://localhost:8080/"
        },
        "id": "QEec2dIy2Emc",
        "outputId": "3220b9bf-cdd4-453c-ebd2-35ce962f1d99"
      },
      "execution_count": 35,
      "outputs": [
        {
          "output_type": "stream",
          "name": "stdout",
          "text": [
            "[1, 2, 2, 1, 2, 2, 1]\n"
          ]
        },
        {
          "output_type": "execute_result",
          "data": {
            "text/plain": [
              "5"
            ]
          },
          "metadata": {},
          "execution_count": 35
        }
      ]
    },
    {
      "cell_type": "code",
      "source": [
        "First_Repeating_element([6, 10, 5, 4, 9, 120])"
      ],
      "metadata": {
        "colab": {
          "base_uri": "https://localhost:8080/"
        },
        "id": "miZUKGyEr3kF",
        "outputId": "f6f0f102-1fc3-45ca-9b36-7cf5a4b5856c"
      },
      "execution_count": 39,
      "outputs": [
        {
          "output_type": "execute_result",
          "data": {
            "text/plain": [
              "-1"
            ]
          },
          "metadata": {},
          "execution_count": 39
        }
      ]
    }
  ]
}