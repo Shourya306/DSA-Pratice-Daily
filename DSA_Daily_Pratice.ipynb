{
  "nbformat": 4,
  "nbformat_minor": 0,
  "metadata": {
    "colab": {
      "name": "DSA Daily Pratice.ipynb",
      "provenance": [],
      "authorship_tag": "ABX9TyOqtYEe4ekA/SG6mSIu1kzs",
      "include_colab_link": true
    },
    "kernelspec": {
      "name": "python3",
      "display_name": "Python 3"
    },
    "language_info": {
      "name": "python"
    }
  },
  "cells": [
    {
      "cell_type": "markdown",
      "metadata": {
        "id": "view-in-github",
        "colab_type": "text"
      },
      "source": [
        "<a href=\"https://colab.research.google.com/github/Shourya306/DSA-Pratice-Daily/blob/main/DSA_Daily_Pratice.ipynb\" target=\"_parent\"><img src=\"https://colab.research.google.com/assets/colab-badge.svg\" alt=\"Open In Colab\"/></a>"
      ]
    },
    {
      "cell_type": "markdown",
      "source": [
        "Given an integer array A.\n",
        "Find the count of elements whose value is greater than all of its previous elements.\n",
        "\n",
        "Note: Since there are no elements before first element so it should be considered in our answer."
      ],
      "metadata": {
        "id": "l199ZVBXjrdM"
      }
    },
    {
      "cell_type": "code",
      "execution_count": 38,
      "metadata": {
        "id": "QiN207zGjiCk"
      },
      "outputs": [],
      "source": [
        "def greater_than_all(num):\n",
        "  index = 0\n",
        "  count = 0\n",
        "  if num[0] == True:\n",
        "    count = 1\n",
        "    for i in num:\n",
        "      index = index + 1\n",
        "      if i > num[index - 2]:\n",
        "        count = count + 1\n",
        "  return count\n"
      ]
    },
    {
      "cell_type": "code",
      "source": [
        "greater_than_all([1,1,2,2])"
      ],
      "metadata": {
        "id": "UbVg5WcvjpIK",
        "colab": {
          "base_uri": "https://localhost:8080/"
        },
        "outputId": "702b1b8f-7767-4171-f70e-b9d823b86711"
      },
      "execution_count": 39,
      "outputs": [
        {
          "output_type": "execute_result",
          "data": {
            "text/plain": [
              "2"
            ]
          },
          "metadata": {},
          "execution_count": 39
        }
      ]
    },
    {
      "cell_type": "code",
      "source": [
        "greater_than_all([1,2,3,4])"
      ],
      "metadata": {
        "colab": {
          "base_uri": "https://localhost:8080/"
        },
        "id": "HE-YxmJV0ucK",
        "outputId": "5fab6802-97e4-4fe2-a3f1-ee1010702ecf"
      },
      "execution_count": 40,
      "outputs": [
        {
          "output_type": "execute_result",
          "data": {
            "text/plain": [
              "4"
            ]
          },
          "metadata": {},
          "execution_count": 40
        }
      ]
    }
  ]
}