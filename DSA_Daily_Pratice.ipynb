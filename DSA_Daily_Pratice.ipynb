{
  "nbformat": 4,
  "nbformat_minor": 0,
  "metadata": {
    "colab": {
      "name": "DSA Daily Pratice.ipynb",
      "provenance": [],
      "authorship_tag": "ABX9TyPZZ/u6E4RdSn+NwbHxWaS4",
      "include_colab_link": true
    },
    "kernelspec": {
      "name": "python3",
      "display_name": "Python 3"
    },
    "language_info": {
      "name": "python"
    }
  },
  "cells": [
    {
      "cell_type": "markdown",
      "metadata": {
        "id": "view-in-github",
        "colab_type": "text"
      },
      "source": [
        "<a href=\"https://colab.research.google.com/github/Shourya306/DSA-Pratice-Daily/blob/main/DSA_Daily_Pratice.ipynb\" target=\"_parent\"><img src=\"https://colab.research.google.com/assets/colab-badge.svg\" alt=\"Open In Colab\"/></a>"
      ]
    },
    {
      "cell_type": "markdown",
      "source": [
        "**Chips Factory**\n",
        "\n",
        "\n",
        "\n",
        "A chips factory is packing chips in packets.\n",
        "The packets of chips are represented as an array A.\n",
        "\n",
        "Find the packet of chips which are empty (Ai = 0) and move them to the end the array.\n",
        "\n",
        "Return the resultant array.\n",
        "\n",
        "\n",
        "\n"
      ],
      "metadata": {
        "id": "yXUOl-PV0CRM"
      }
    },
    {
      "cell_type": "code",
      "source": [
        "def chips_factory(list_1):\n",
        "  e = []\n",
        "  e1 = []\n",
        "  for i in list_1:\n",
        "    if i > 0:\n",
        "     e.append(i)\n",
        "    if i == 0:\n",
        "      e1.append(i)\n",
        "  return e + e1\n",
        "  "
      ],
      "metadata": {
        "id": "mrBNoEsDvNnx"
      },
      "execution_count": 60,
      "outputs": []
    },
    {
      "cell_type": "code",
      "source": [
        "chips_factory([0,1,2,3])"
      ],
      "metadata": {
        "colab": {
          "base_uri": "https://localhost:8080/"
        },
        "id": "2eA4v_gfwWvk",
        "outputId": "c1a70614-3105-46a9-8bef-8efc4a8509c5"
      },
      "execution_count": 61,
      "outputs": [
        {
          "output_type": "execute_result",
          "data": {
            "text/plain": [
              "[1, 2, 3, 0]"
            ]
          },
          "metadata": {},
          "execution_count": 61
        }
      ]
    },
    {
      "cell_type": "code",
      "source": [
        "chips_factory([1,0,0,0])"
      ],
      "metadata": {
        "colab": {
          "base_uri": "https://localhost:8080/"
        },
        "id": "JQgc8CDMwY35",
        "outputId": "ee6f5b80-820d-4cac-a600-bcfca6196826"
      },
      "execution_count": 62,
      "outputs": [
        {
          "output_type": "execute_result",
          "data": {
            "text/plain": [
              "[1, 0, 0, 0]"
            ]
          },
          "metadata": {},
          "execution_count": 62
        }
      ]
    }
  ]
}