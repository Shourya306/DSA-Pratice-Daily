{
  "nbformat": 4,
  "nbformat_minor": 0,
  "metadata": {
    "colab": {
      "name": "DSA Daily Pratice.ipynb",
      "provenance": [],
      "collapsed_sections": [],
      "authorship_tag": "ABX9TyNtz8X/RtDe6PLIUl5nTNWc",
      "include_colab_link": true
    },
    "kernelspec": {
      "name": "python3",
      "display_name": "Python 3"
    },
    "language_info": {
      "name": "python"
    }
  },
  "cells": [
    {
      "cell_type": "markdown",
      "metadata": {
        "id": "view-in-github",
        "colab_type": "text"
      },
      "source": [
        "<a href=\"https://colab.research.google.com/github/Shourya306/DSA-Pratice-Daily/blob/main/DSA_Daily_Pratice.ipynb\" target=\"_parent\"><img src=\"https://colab.research.google.com/assets/colab-badge.svg\" alt=\"Open In Colab\"/></a>"
      ]
    },
    {
      "cell_type": "markdown",
      "source": [
        "**Leaders in an array**\n",
        "\n",
        "Given an integer array A containing N distinct integers, you have to find all the leaders in the array A.\n",
        "\n",
        " An element is leader if it is strictly greater than all the elements to its right side.\n",
        "\n",
        "NOTE:The rightmost element is always a leader.\n",
        "\n",
        "Input 1:\n",
        "\n",
        " A = [16, 17, 4, 3, 5, 2]\n",
        "Input 2:\n",
        "\n",
        " A = [1, 2]\n",
        "\n",
        " Output 1:\n",
        "\n",
        " [17, 2, 5]\n",
        "\n",
        "Output 2:\n",
        "\n",
        " [2]"
      ],
      "metadata": {
        "id": "0T-BnsKWFIgs"
      }
    },
    {
      "cell_type": "code",
      "source": [
        "def leader_searching(A):\n",
        "  m = A[-1]\n",
        "  list_1 = []\n",
        "  A.reverse()\n",
        "  for i in A:\n",
        "    if i >= m:\n",
        "      list_1.append(i)\n",
        "      m = i\n",
        "  return list_1"
      ],
      "metadata": {
        "id": "gmocdfdOwi1A"
      },
      "execution_count": 55,
      "outputs": []
    },
    {
      "cell_type": "code",
      "source": [
        "leader_searching([16, 17, 4, 3, 5, 2])"
      ],
      "metadata": {
        "colab": {
          "base_uri": "https://localhost:8080/"
        },
        "id": "3XGB_7UWyPtF",
        "outputId": "4479b36f-e7c3-49f9-b10b-9f5cd74bc874"
      },
      "execution_count": 56,
      "outputs": [
        {
          "output_type": "execute_result",
          "data": {
            "text/plain": [
              "[2, 5, 17]"
            ]
          },
          "metadata": {},
          "execution_count": 56
        }
      ]
    }
  ]
}