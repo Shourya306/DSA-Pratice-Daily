{
  "nbformat": 4,
  "nbformat_minor": 0,
  "metadata": {
    "colab": {
      "provenance": [],
      "collapsed_sections": [],
      "authorship_tag": "ABX9TyPOGSBguV3DVU8nr4FtGH8y",
      "include_colab_link": true
    },
    "kernelspec": {
      "name": "python3",
      "display_name": "Python 3"
    },
    "language_info": {
      "name": "python"
    }
  },
  "cells": [
    {
      "cell_type": "markdown",
      "metadata": {
        "id": "view-in-github",
        "colab_type": "text"
      },
      "source": [
        "<a href=\"https://colab.research.google.com/github/Shourya306/DSA-Pratice-Daily/blob/main/DSA_Daily_Pratice.ipynb\" target=\"_parent\"><img src=\"https://colab.research.google.com/assets/colab-badge.svg\" alt=\"Open In Colab\"/></a>"
      ]
    },
    {
      "cell_type": "markdown",
      "source": [
        "**2 sums**\n",
        "\n",
        "Given an array of integers, find two numbers such that they add up to a specific target number.\n",
        "\n",
        "The function twoSum should return indices of the two numbers such that they add up to the target, where index1 < index2. Please note that your returned answers (both index1 and index2 ) are not zero-based. Put both these numbers in order in an array and return the array from your function ( Looking at the function signature will make things clearer ). Note that, if no pair exists, return empty list."
      ],
      "metadata": {
        "id": "HgJ7IMmf9Hs2"
      }
    },
    {
      "cell_type": "code",
      "source": [
        "from itertools import combinations\n",
        "\n",
        "def two_sum(A,target):\n",
        "  emp_list = []\n",
        "  for i in combinations(A,2):\n",
        "    if sum(i) == target:\n",
        "      for j in i:\n",
        "        emp_list.append(A.index(j))\n",
        "  index_1 = min(emp_list)\n",
        "  index_2 = max(emp_list)\n",
        "  return f'index 1 = {index_1} and index 2 = {index_2}'"
      ],
      "metadata": {
        "id": "K0PCxbUD1Cgp"
      },
      "execution_count": 3,
      "outputs": []
    },
    {
      "cell_type": "code",
      "source": [
        "two_sum([2, 7, 11, 15],9)"
      ],
      "metadata": {
        "colab": {
          "base_uri": "https://localhost:8080/",
          "height": 35
        },
        "id": "OItVSk1-827O",
        "outputId": "402d178e-827f-4c01-db72-9ea20ba0f417"
      },
      "execution_count": 4,
      "outputs": [
        {
          "output_type": "execute_result",
          "data": {
            "text/plain": [
              "'index 1 = 0 and index 2 = 1'"
            ],
            "application/vnd.google.colaboratory.intrinsic+json": {
              "type": "string"
            }
          },
          "metadata": {},
          "execution_count": 4
        }
      ]
    }
  ]
}