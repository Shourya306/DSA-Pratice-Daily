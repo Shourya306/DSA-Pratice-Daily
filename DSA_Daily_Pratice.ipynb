{
  "nbformat": 4,
  "nbformat_minor": 0,
  "metadata": {
    "colab": {
      "name": "DSA Daily Pratice.ipynb",
      "provenance": [],
      "collapsed_sections": [],
      "authorship_tag": "ABX9TyMwRlQtsSUBC0kP4H0nntt5",
      "include_colab_link": true
    },
    "kernelspec": {
      "name": "python3",
      "display_name": "Python 3"
    },
    "language_info": {
      "name": "python"
    }
  },
  "cells": [
    {
      "cell_type": "markdown",
      "metadata": {
        "id": "view-in-github",
        "colab_type": "text"
      },
      "source": [
        "<a href=\"https://colab.research.google.com/github/Shourya306/DSA-Pratice-Daily/blob/main/DSA_Daily_Pratice.ipynb\" target=\"_parent\"><img src=\"https://colab.research.google.com/assets/colab-badge.svg\" alt=\"Open In Colab\"/></a>"
      ]
    },
    {
      "cell_type": "markdown",
      "source": [
        "**Pascal Triangle**\n",
        "\n",
        "Given numRows, generate the first numRows of Pascal's triangle.\n",
        "Pascal's triangle : To generate A[C] in row R, sum up A'[C] and A'[C-1] from previous row R - 1.\n",
        "\n",
        "Example:\n",
        "\n",
        "Given numRows = 5,\n",
        "\n",
        "Return\n",
        "\n",
        "[\n",
        "     [1],\n",
        "     [1,1],\n",
        "     [1,2,1],\n",
        "     [1,3,3,1],\n",
        "     [1,4,6,4,1]\n",
        "]\n"
      ],
      "metadata": {
        "id": "0KMlZuvd1nHX"
      }
    },
    {
      "cell_type": "code",
      "source": [
        "def pascal(A):\n",
        "  ret = []\n",
        "  if A == 0:\n",
        "    return ret\n",
        "  else:\n",
        "    ret = [[1]]\n",
        "    for i in range(2,A + 1):\n",
        "      ret.append([0] * i)\n",
        "      ret[i-1][0] = 1\n",
        "      ret[i - 1][-1] = 1\n",
        "      for j in range(1,i-1):\n",
        "        ret[i-1][j] = ret[i-2][j-1]+ret[i-2][j]\n",
        "  return ret"
      ],
      "metadata": {
        "id": "exiPUqMCw5X6"
      },
      "execution_count": 16,
      "outputs": []
    },
    {
      "cell_type": "code",
      "source": [
        "pascal(10)"
      ],
      "metadata": {
        "colab": {
          "base_uri": "https://localhost:8080/"
        },
        "id": "APKk1iE71hYD",
        "outputId": "b14c612f-aa66-4258-cc27-826bd0599efd"
      },
      "execution_count": 19,
      "outputs": [
        {
          "output_type": "execute_result",
          "data": {
            "text/plain": [
              "[[1],\n",
              " [1, 1],\n",
              " [1, 2, 1],\n",
              " [1, 3, 3, 1],\n",
              " [1, 4, 6, 4, 1],\n",
              " [1, 5, 10, 10, 5, 1],\n",
              " [1, 6, 15, 20, 15, 6, 1],\n",
              " [1, 7, 21, 35, 35, 21, 7, 1],\n",
              " [1, 8, 28, 56, 70, 56, 28, 8, 1],\n",
              " [1, 9, 36, 84, 126, 126, 84, 36, 9, 1]]"
            ]
          },
          "metadata": {},
          "execution_count": 19
        }
      ]
    }
  ]
}