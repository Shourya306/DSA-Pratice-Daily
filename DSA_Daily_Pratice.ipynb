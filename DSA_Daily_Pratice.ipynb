{
  "nbformat": 4,
  "nbformat_minor": 0,
  "metadata": {
    "colab": {
      "name": "DSA Daily Pratice.ipynb",
      "provenance": [],
      "collapsed_sections": [],
      "authorship_tag": "ABX9TyOL3Txab1tz/qn7nH/ulgEx",
      "include_colab_link": true
    },
    "kernelspec": {
      "name": "python3",
      "display_name": "Python 3"
    },
    "language_info": {
      "name": "python"
    }
  },
  "cells": [
    {
      "cell_type": "markdown",
      "metadata": {
        "id": "view-in-github",
        "colab_type": "text"
      },
      "source": [
        "<a href=\"https://colab.research.google.com/github/Shourya306/DSA-Pratice-Daily/blob/main/DSA_Daily_Pratice.ipynb\" target=\"_parent\"><img src=\"https://colab.research.google.com/assets/colab-badge.svg\" alt=\"Open In Colab\"/></a>"
      ]
    },
    {
      "cell_type": "markdown",
      "source": [
        " ***Character Frequencies***\n",
        "\n",
        "Given a string A containing only lowercase characters.\n",
        "\n",
        "Find the frequencies of the characters in order of their occurrence.\n",
        "\n",
        "Input 1:\n",
        "\n",
        "A = \"interviewbit\"\n",
        "\n",
        "Input 2:\n",
        "\n",
        "A = \"scaler\"\n",
        "\n",
        "Output 1:\n",
        "\n",
        "[3, 1, 2, 2, 1, 1, 1, 1]\n",
        "\n",
        "Output 2:\n",
        "\n",
        "[1, 1, 1, 1, 1, 1]\n",
        "\n"
      ],
      "metadata": {
        "id": "QENrAy7NNXqy"
      }
    },
    {
      "cell_type": "code",
      "source": [
        "def Character_Frequencies(A):\n",
        "  index = 0\n",
        "  list_1 = []\n",
        "  for i in range(len(A)):\n",
        "    if A[i] not in A[:index]:\n",
        "      list_1.append(A.count(A[i]))\n",
        "      index = index + 1\n",
        "  return list_1"
      ],
      "metadata": {
        "id": "6N7-CLW9Z2pA"
      },
      "execution_count": 32,
      "outputs": []
    },
    {
      "cell_type": "code",
      "source": [
        "Character_Frequencies('interviewbit')"
      ],
      "metadata": {
        "colab": {
          "base_uri": "https://localhost:8080/"
        },
        "id": "DCdMDojtDJSk",
        "outputId": "9842a337-a4ec-4512-a2c9-4c19d4f0355c"
      },
      "execution_count": 35,
      "outputs": [
        {
          "output_type": "execute_result",
          "data": {
            "text/plain": [
              "[3, 1, 2, 2, 1, 1, 1, 1]"
            ]
          },
          "metadata": {},
          "execution_count": 35
        }
      ]
    }
  ]
}