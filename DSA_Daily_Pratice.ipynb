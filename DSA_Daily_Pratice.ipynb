{
  "nbformat": 4,
  "nbformat_minor": 0,
  "metadata": {
    "colab": {
      "provenance": [],
      "collapsed_sections": [],
      "authorship_tag": "ABX9TyPKIsvpd1wviZVUfEbtEiqv",
      "include_colab_link": true
    },
    "kernelspec": {
      "name": "python3",
      "display_name": "Python 3"
    },
    "language_info": {
      "name": "python"
    }
  },
  "cells": [
    {
      "cell_type": "markdown",
      "metadata": {
        "id": "view-in-github",
        "colab_type": "text"
      },
      "source": [
        "<a href=\"https://colab.research.google.com/github/Shourya306/DSA-Pratice-Daily/blob/main/DSA_Daily_Pratice.ipynb\" target=\"_parent\"><img src=\"https://colab.research.google.com/assets/colab-badge.svg\" alt=\"Open In Colab\"/></a>"
      ]
    },
    {
      "cell_type": "markdown",
      "source": [
        "**Add one to number**\n",
        "\n",
        "Given a non-negative number represented as an array of digits, add 1 to the number ( increment the number represented by the digits ).\n",
        "\n",
        "The digits are stored such that the most significant digit is at the head of the list.\n",
        "\n",
        "Input 1:\n",
        "\n",
        "[1, 2, 3]\n",
        "\n",
        "Output 1:\n",
        "\n",
        "[1, 2, 4]\n",
        "\n",
        "Explanation 1:\n",
        "\n",
        "Given vector is [1, 2, 3].\n",
        "The returned vector should be [1, 2, 4] as 123 + 1 = 124.\n"
      ],
      "metadata": {
        "id": "f3smFMymBb5w"
      }
    },
    {
      "cell_type": "code",
      "source": [
        "def one_plus(A):\n",
        "  arr = np.array(A)\n",
        "  x = arr + 1\n",
        "  y = x[-1]\n",
        "  A.pop()\n",
        "  A.append(y)\n",
        "  return A"
      ],
      "metadata": {
        "id": "kVIsmfm8_dzH"
      },
      "execution_count": 42,
      "outputs": []
    },
    {
      "cell_type": "code",
      "source": [
        "one_plus([1,2,3])"
      ],
      "metadata": {
        "colab": {
          "base_uri": "https://localhost:8080/"
        },
        "id": "F3TIL9Oq_fzN",
        "outputId": "f68724d0-42f4-45ad-bf63-65a9ec7debd4"
      },
      "execution_count": 43,
      "outputs": [
        {
          "output_type": "execute_result",
          "data": {
            "text/plain": [
              "[1, 2, 4]"
            ]
          },
          "metadata": {},
          "execution_count": 43
        }
      ]
    },
    {
      "cell_type": "code",
      "source": [],
      "metadata": {
        "id": "z7FV6thcA8qV"
      },
      "execution_count": null,
      "outputs": []
    }
  ]
}