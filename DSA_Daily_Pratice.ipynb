{
  "nbformat": 4,
  "nbformat_minor": 0,
  "metadata": {
    "colab": {
      "name": "DSA Daily Pratice.ipynb",
      "provenance": [],
      "authorship_tag": "ABX9TyPWZEPEkr7IvfVUwGzifBfD",
      "include_colab_link": true
    },
    "kernelspec": {
      "name": "python3",
      "display_name": "Python 3"
    },
    "language_info": {
      "name": "python"
    }
  },
  "cells": [
    {
      "cell_type": "markdown",
      "metadata": {
        "id": "view-in-github",
        "colab_type": "text"
      },
      "source": [
        "<a href=\"https://colab.research.google.com/github/Shourya306/DSA-Pratice-Daily/blob/main/DSA_Daily_Pratice.ipynb\" target=\"_parent\"><img src=\"https://colab.research.google.com/assets/colab-badge.svg\" alt=\"Open In Colab\"/></a>"
      ]
    },
    {
      "cell_type": "markdown",
      "source": [
        "**Greater of Lesser**\n",
        "\n",
        "Given two integer arrays A and B, and an integer C.\n",
        "\n",
        "Find the number of integers in A which are greater than C and find the number of integers in B which are less than C.\n",
        "\n",
        "Return maximum of these two values.\n",
        "\n",
        "Input 1:\n",
        "\n",
        "A = [1, 2, 3, 4]\n",
        "\n",
        "B = [5, 6, 7, 8]\n",
        "\n",
        "C = 4\n",
        "Input 2:\n",
        "\n",
        "A = [1, 10, 100]\n",
        "\n",
        "B = [9, 9, 9]\n",
        "\n",
        "C = 50\n",
        "\n",
        "Output 1:\n",
        "\n",
        "0\n",
        "\n",
        "Output 2:\n",
        "\n",
        "3"
      ],
      "metadata": {
        "id": "JGA7XsWHplW4"
      }
    },
    {
      "cell_type": "code",
      "source": [
        "def Greater_of_Lesser(A,B,C):\n",
        "  count = 0\n",
        "  count1 = 0\n",
        "  c_list = []\n",
        "  for i in A:\n",
        "    if i > C:\n",
        "      count = count + 1\n",
        "  for j in B:\n",
        "    if j < C:\n",
        "      count1 = count1 + 1\n",
        "  c_list.append(count)\n",
        "  c_list.append(count1)\n",
        "  return max(c_list)"
      ],
      "metadata": {
        "id": "mrBNoEsDvNnx"
      },
      "execution_count": 5,
      "outputs": []
    },
    {
      "cell_type": "code",
      "source": [
        "Greater_of_Lesser([1, 2, 3, 4],[5, 6, 7, 8],4)"
      ],
      "metadata": {
        "colab": {
          "base_uri": "https://localhost:8080/"
        },
        "id": "atO5MvcsdMEU",
        "outputId": "8d72d9c1-8c68-484b-df9e-2bcc4d3a3332"
      },
      "execution_count": 6,
      "outputs": [
        {
          "output_type": "execute_result",
          "data": {
            "text/plain": [
              "0"
            ]
          },
          "metadata": {},
          "execution_count": 6
        }
      ]
    },
    {
      "cell_type": "code",
      "source": [
        "Greater_of_Lesser([1, 10, 100],[9, 9, 9],50)"
      ],
      "metadata": {
        "colab": {
          "base_uri": "https://localhost:8080/"
        },
        "id": "1XNVCh6TABEK",
        "outputId": "6dbb3e17-fa47-4414-a631-a5c1e37a445b"
      },
      "execution_count": 7,
      "outputs": [
        {
          "output_type": "execute_result",
          "data": {
            "text/plain": [
              "3"
            ]
          },
          "metadata": {},
          "execution_count": 7
        }
      ]
    }
  ]
}