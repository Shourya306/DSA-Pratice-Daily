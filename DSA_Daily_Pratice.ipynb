{
  "nbformat": 4,
  "nbformat_minor": 0,
  "metadata": {
    "colab": {
      "name": "DSA Daily Pratice.ipynb",
      "provenance": [],
      "collapsed_sections": [],
      "authorship_tag": "ABX9TyMQaJQFqAn8z6Quj6CmgoRH",
      "include_colab_link": true
    },
    "kernelspec": {
      "name": "python3",
      "display_name": "Python 3"
    },
    "language_info": {
      "name": "python"
    }
  },
  "cells": [
    {
      "cell_type": "markdown",
      "metadata": {
        "id": "view-in-github",
        "colab_type": "text"
      },
      "source": [
        "<a href=\"https://colab.research.google.com/github/Shourya306/DSA-Pratice-Daily/blob/main/DSA_Daily_Pratice.ipynb\" target=\"_parent\"><img src=\"https://colab.research.google.com/assets/colab-badge.svg\" alt=\"Open In Colab\"/></a>"
      ]
    },
    {
      "cell_type": "markdown",
      "source": [
        "###Pythagorean triplets\n",
        "\n",
        "A Pythagorean triplet is a set of three integers a, b and c such that a2 + b2 = c2.\n",
        "\n",
        "Find the number of pythagorean triplets such that all the elements of the triplet are less than or equal to A.\n",
        "\n",
        "Input 1:\n",
        "\n",
        "A = 5\n",
        "\n",
        "Input 2:\n",
        "\n",
        "A = 13\n",
        "\n",
        "Output 1:\n",
        "\n",
        "1\n",
        "\n",
        "Output 2:\n",
        "\n",
        "3\n",
        "\n",
        "Explanation 1:\n",
        "\n",
        "Then only triplet is {3, 4, 5}\n",
        "\n",
        "Explanation 2:\n",
        "\n",
        "The triplets are {3, 4, 5}, {6, 8, 10}, {5, 12, 13}.\n"
      ],
      "metadata": {
        "id": "tNnpztrohP14"
      }
    },
    {
      "cell_type": "code",
      "source": [
        "def triplets(num):\n",
        "  count = 0\n",
        "  for i in range(1,num + 1):\n",
        "    for j in range(1,num + 1):\n",
        "      for k in range(1,num + 1):\n",
        "        if (i**2) + (j**2) == (k**2):\n",
        "          count = count + 1\n",
        "  return int(count/2)"
      ],
      "metadata": {
        "id": "6N7-CLW9Z2pA"
      },
      "execution_count": 41,
      "outputs": []
    },
    {
      "cell_type": "code",
      "source": [
        "triplets(13)"
      ],
      "metadata": {
        "colab": {
          "base_uri": "https://localhost:8080/"
        },
        "id": "wFa0yIAbapkR",
        "outputId": "7add5d40-1a0d-4f07-8f16-055c46c64682"
      },
      "execution_count": 38,
      "outputs": [
        {
          "output_type": "execute_result",
          "data": {
            "text/plain": [
              "3"
            ]
          },
          "metadata": {},
          "execution_count": 38
        }
      ]
    },
    {
      "cell_type": "code",
      "source": [
        "triplets(5)"
      ],
      "metadata": {
        "colab": {
          "base_uri": "https://localhost:8080/"
        },
        "id": "W4KCqasyhjWb",
        "outputId": "81bd7465-2a2e-4958-dd5f-22de8191dfdc"
      },
      "execution_count": 39,
      "outputs": [
        {
          "output_type": "execute_result",
          "data": {
            "text/plain": [
              "1"
            ]
          },
          "metadata": {},
          "execution_count": 39
        }
      ]
    },
    {
      "cell_type": "code",
      "source": [
        ""
      ],
      "metadata": {
        "id": "Q75Cyl_Bhk66"
      },
      "execution_count": null,
      "outputs": []
    }
  ]
}