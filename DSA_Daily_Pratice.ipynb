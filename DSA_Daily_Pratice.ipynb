{
  "nbformat": 4,
  "nbformat_minor": 0,
  "metadata": {
    "colab": {
      "provenance": [],
      "collapsed_sections": [],
      "authorship_tag": "ABX9TyOdQJzS9hotr38XO9Yn8f8x",
      "include_colab_link": true
    },
    "kernelspec": {
      "name": "python3",
      "display_name": "Python 3"
    },
    "language_info": {
      "name": "python"
    }
  },
  "cells": [
    {
      "cell_type": "markdown",
      "metadata": {
        "id": "view-in-github",
        "colab_type": "text"
      },
      "source": [
        "<a href=\"https://colab.research.google.com/github/Shourya306/DSA-Pratice-Daily/blob/main/DSA_Daily_Pratice.ipynb\" target=\"_parent\"><img src=\"https://colab.research.google.com/assets/colab-badge.svg\" alt=\"Open In Colab\"/></a>"
      ]
    },
    {
      "cell_type": "markdown",
      "source": [
        "**Find Duplicate in Array**.\n",
        "\n",
        "Find the duplicate integer in the array. \n",
        "\n",
        "If there are more than 2 duplicate intergers return any one duplicate interger.\n",
        "\n",
        "If there aren't any duplicate intergers return -1."
      ],
      "metadata": {
        "id": "lHEsdze_xFdu"
      }
    },
    {
      "cell_type": "code",
      "source": [
        "def duplicate(A):\n",
        "  dup_list = []\n",
        "  for i in set(A):\n",
        "    if A.count(i) >= 2:\n",
        "      dup_list.append(i)\n",
        "  if len(dup_list) >= 2:\n",
        "    return dup_list[0]\n",
        "  elif len(dup_list) == 1:\n",
        "    return dup_list[0]\n",
        "  else:\n",
        "    return -1"
      ],
      "metadata": {
        "id": "dNzir5TZAbwv"
      },
      "execution_count": 3,
      "outputs": []
    },
    {
      "cell_type": "code",
      "source": [
        "duplicate([3,4,5,1])"
      ],
      "metadata": {
        "colab": {
          "base_uri": "https://localhost:8080/"
        },
        "id": "rUyBeUWGws4X",
        "outputId": "f58f8de4-e30a-484c-ce1f-3c9dbdf900e3"
      },
      "execution_count": 7,
      "outputs": [
        {
          "output_type": "execute_result",
          "data": {
            "text/plain": [
              "-1"
            ]
          },
          "metadata": {},
          "execution_count": 7
        }
      ]
    },
    {
      "cell_type": "code",
      "source": [],
      "metadata": {
        "id": "Afel-1rQwz0n"
      },
      "execution_count": null,
      "outputs": []
    }
  ]
}