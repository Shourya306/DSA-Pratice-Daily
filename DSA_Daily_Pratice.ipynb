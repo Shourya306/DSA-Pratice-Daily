{
  "nbformat": 4,
  "nbformat_minor": 0,
  "metadata": {
    "colab": {
      "name": "DSA Daily Pratice.ipynb",
      "provenance": [],
      "collapsed_sections": [],
      "authorship_tag": "ABX9TyOsSgFC5ny59r9phX9G0EtH",
      "include_colab_link": true
    },
    "kernelspec": {
      "name": "python3",
      "display_name": "Python 3"
    },
    "language_info": {
      "name": "python"
    }
  },
  "cells": [
    {
      "cell_type": "markdown",
      "metadata": {
        "id": "view-in-github",
        "colab_type": "text"
      },
      "source": [
        "<a href=\"https://colab.research.google.com/github/Shourya306/DSA-Pratice-Daily/blob/main/DSA_Daily_Pratice.ipynb\" target=\"_parent\"><img src=\"https://colab.research.google.com/assets/colab-badge.svg\" alt=\"Open In Colab\"/></a>"
      ]
    },
    {
      "cell_type": "markdown",
      "source": [
        "**Multiple left rotations of the array**\n",
        "\n",
        "Given an array of integers A and multiple values in B around which left rotation of the array A needs to be performed.\n",
        "\n",
        "Find the rotated array for each value and return the result in the from of a matrix where i’th row represents the rotated\n",
        "\n",
        "array for the i’th value in B.\n",
        "\n",
        "Input 1:\n",
        "\n",
        "    A = [1, 2, 3, 4, 5]\n",
        "\n",
        "    B = [2, 3]\n",
        "Output 1:\n",
        "\n",
        "    [ [3, 4, 5, 1, 2]\n",
        "      [4, 5, 1, 2, 3] ]\n",
        "\n",
        "Input 2:\n",
        "\n",
        "    A = [5, 17, 100, 11]\n",
        "    \n",
        "    B = [1]\n",
        "Output 2:\n",
        "\n",
        "    [ [17, 100, 11, 5] ]"
      ],
      "metadata": {
        "id": "78OWS92jNkRs"
      }
    },
    {
      "cell_type": "code",
      "source": [
        "def multiple_rotations(A,B):\n",
        "  ans_list = []\n",
        "  for i in B:\n",
        "    i = i % len(A)\n",
        "    list_1 = A[i:]\n",
        "    list_1.extend(A[:i])\n",
        "    ans_list.append(list_1)\n",
        "  return ans_list"
      ],
      "metadata": {
        "id": "jvmZJ8vF09UH"
      },
      "execution_count": 136,
      "outputs": []
    },
    {
      "cell_type": "code",
      "source": [
        "multiple_rotations([1,2,3,4,5],[2,3])"
      ],
      "metadata": {
        "colab": {
          "base_uri": "https://localhost:8080/"
        },
        "id": "aqBN25xWMOWh",
        "outputId": "24a2eb88-5a13-4e27-8139-e4b45eec5299"
      },
      "execution_count": 135,
      "outputs": [
        {
          "output_type": "execute_result",
          "data": {
            "text/plain": [
              "[[3, 4, 5, 1, 2], [4, 5, 1, 2, 3]]"
            ]
          },
          "metadata": {},
          "execution_count": 135
        }
      ]
    },
    {
      "cell_type": "code",
      "source": [
        ""
      ],
      "metadata": {
        "id": "V_PUQU8PNiXe"
      },
      "execution_count": null,
      "outputs": []
    }
  ]
}