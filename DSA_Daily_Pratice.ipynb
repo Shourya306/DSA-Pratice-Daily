{
  "nbformat": 4,
  "nbformat_minor": 0,
  "metadata": {
    "colab": {
      "name": "DSA Daily Pratice.ipynb",
      "provenance": [],
      "collapsed_sections": [],
      "authorship_tag": "ABX9TyP9ip1P3laFLkRobUGLJ+m5",
      "include_colab_link": true
    },
    "kernelspec": {
      "name": "python3",
      "display_name": "Python 3"
    },
    "language_info": {
      "name": "python"
    }
  },
  "cells": [
    {
      "cell_type": "markdown",
      "metadata": {
        "id": "view-in-github",
        "colab_type": "text"
      },
      "source": [
        "<a href=\"https://colab.research.google.com/github/Shourya306/DSA-Pratice-Daily/blob/main/DSA_Daily_Pratice.ipynb\" target=\"_parent\"><img src=\"https://colab.research.google.com/assets/colab-badge.svg\" alt=\"Open In Colab\"/></a>"
      ]
    },
    {
      "cell_type": "markdown",
      "source": [
        "**Reverse the string**\n",
        "\n",
        "Given a string A.\n",
        "\n",
        "Return the string A after reversing the string word by word.\n",
        "\n",
        "NOTE:\n",
        "\n",
        "A sequence of non-space characters constitutes a word.\n",
        "\n",
        "Your reversed string should not contain leading or trailing spaces, even if it is present in the input string.\n",
        "\n",
        "If there are multiple spaces between words, reduce them to a single space in the reversed string.\n",
        "\n",
        "For Example\n",
        "\n",
        "Input 1:\n",
        "\n",
        "    A = \"the sky is blue\"\n",
        "Output 1:\n",
        "\n",
        "    \"blue is sky the\"\n",
        "\n",
        "Input 2:\n",
        "\n",
        "    A = \"this is ib\"\n",
        "Output 2:\n",
        "\n",
        "    \"ib is this\"\n",
        "\n",
        "Input 3:\n",
        "\n",
        "    A = \" hello world \"\n",
        "Output 3:\n",
        "\n",
        "    \"world hello\"\n"
      ],
      "metadata": {
        "id": "58XXzJ53uRLd"
      }
    },
    {
      "cell_type": "code",
      "source": [
        "def Reverse_the_String(string):\n",
        "  split_string = string.split()\n",
        "  split_string.reverse()\n",
        "  return ' '.join(list(split_string))\n"
      ],
      "metadata": {
        "id": "EPUONakjs38n"
      },
      "execution_count": 14,
      "outputs": []
    },
    {
      "cell_type": "code",
      "source": [
        "Reverse_the_String('the sky is blue')"
      ],
      "metadata": {
        "colab": {
          "base_uri": "https://localhost:8080/",
          "height": 35
        },
        "id": "CyWWknlks9eL",
        "outputId": "e6d31014-6f22-413f-8701-28cb3ecfa30b"
      },
      "execution_count": 15,
      "outputs": [
        {
          "output_type": "execute_result",
          "data": {
            "text/plain": [
              "'blue is sky the'"
            ],
            "application/vnd.google.colaboratory.intrinsic+json": {
              "type": "string"
            }
          },
          "metadata": {},
          "execution_count": 15
        }
      ]
    },
    {
      "cell_type": "code",
      "source": [
        "Reverse_the_String('this is ib')"
      ],
      "metadata": {
        "colab": {
          "base_uri": "https://localhost:8080/",
          "height": 35
        },
        "id": "aqirZkz4tWHQ",
        "outputId": "73ed28ae-746d-40f3-ed58-91c002cfcf35"
      },
      "execution_count": 17,
      "outputs": [
        {
          "output_type": "execute_result",
          "data": {
            "text/plain": [
              "'ib is this'"
            ],
            "application/vnd.google.colaboratory.intrinsic+json": {
              "type": "string"
            }
          },
          "metadata": {},
          "execution_count": 17
        }
      ]
    },
    {
      "cell_type": "code",
      "source": [
        "Reverse_the_String(\" hello world \")"
      ],
      "metadata": {
        "colab": {
          "base_uri": "https://localhost:8080/",
          "height": 35
        },
        "id": "if_0f2ohtZU_",
        "outputId": "2f20652e-88f2-4620-90c8-6b2fa04e53f4"
      },
      "execution_count": 18,
      "outputs": [
        {
          "output_type": "execute_result",
          "data": {
            "text/plain": [
              "'world hello'"
            ],
            "application/vnd.google.colaboratory.intrinsic+json": {
              "type": "string"
            }
          },
          "metadata": {},
          "execution_count": 18
        }
      ]
    }
  ]
}