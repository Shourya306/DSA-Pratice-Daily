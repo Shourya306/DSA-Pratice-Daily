{
  "nbformat": 4,
  "nbformat_minor": 0,
  "metadata": {
    "colab": {
      "name": "DSA Daily Pratice.ipynb",
      "provenance": [],
      "collapsed_sections": [],
      "authorship_tag": "ABX9TyOri2wpiM2xU8Puj7e6C7/x",
      "include_colab_link": true
    },
    "kernelspec": {
      "name": "python3",
      "display_name": "Python 3"
    },
    "language_info": {
      "name": "python"
    }
  },
  "cells": [
    {
      "cell_type": "markdown",
      "metadata": {
        "id": "view-in-github",
        "colab_type": "text"
      },
      "source": [
        "<a href=\"https://colab.research.google.com/github/Shourya306/DSA-Pratice-Daily/blob/main/DSA_Daily_Pratice.ipynb\" target=\"_parent\"><img src=\"https://colab.research.google.com/assets/colab-badge.svg\" alt=\"Open In Colab\"/></a>"
      ]
    },
    {
      "cell_type": "markdown",
      "source": [
        "**Wave_array**\n",
        "\n",
        "Given an array of integers,  sort the array into a wave like array and return it, \n",
        "\n",
        "In other words, arrange the elements into a sequence such that  a1 >= a2 <= a3 >= a4 <= a5.....\n",
        "\n",
        "Example\n",
        "\n",
        "Given [1, 2, 3, 4]\n",
        "\n",
        "One possible answer : [2, 1, 4, 3]\n",
        "Another possible answer : [4, 1, 3, 2]\n",
        "NOTE : If there are multiple answers possible, return the one thats lexicographically smallest. \n",
        "\n",
        "So, in example case, you will return [2, 1, 4, 3]\n",
        "\n"
      ],
      "metadata": {
        "id": "SknOAJYx7QAX"
      }
    },
    {
      "cell_type": "code",
      "source": [
        "def wave_array(A):\n",
        "  A.sort()\n",
        "  for i in range(0,len(A)-1, 2):\n",
        "    A[i],A[i+1] = A[i + 1], A[i]\n",
        "  return A"
      ],
      "metadata": {
        "id": "2pJS18cw6loB"
      },
      "execution_count": 46,
      "outputs": []
    },
    {
      "cell_type": "code",
      "source": [
        "wave_array([1,2,3,4])\n"
      ],
      "metadata": {
        "colab": {
          "base_uri": "https://localhost:8080/"
        },
        "id": "MWlr71n06p2E",
        "outputId": "73b5604d-ba2e-4faf-ad19-15c820260ae3"
      },
      "execution_count": 47,
      "outputs": [
        {
          "output_type": "execute_result",
          "data": {
            "text/plain": [
              "[2, 1, 4, 3]"
            ]
          },
          "metadata": {},
          "execution_count": 47
        }
      ]
    }
  ]
}