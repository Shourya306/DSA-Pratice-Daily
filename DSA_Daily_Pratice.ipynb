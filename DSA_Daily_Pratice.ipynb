{
  "nbformat": 4,
  "nbformat_minor": 0,
  "metadata": {
    "colab": {
      "name": "DSA Daily Pratice.ipynb",
      "provenance": [],
      "collapsed_sections": [],
      "authorship_tag": "ABX9TyMzBn/QU7Kfie0KFfZs0gq7",
      "include_colab_link": true
    },
    "kernelspec": {
      "name": "python3",
      "display_name": "Python 3"
    },
    "language_info": {
      "name": "python"
    }
  },
  "cells": [
    {
      "cell_type": "markdown",
      "metadata": {
        "id": "view-in-github",
        "colab_type": "text"
      },
      "source": [
        "<a href=\"https://colab.research.google.com/github/Shourya306/DSA-Pratice-Daily/blob/main/DSA_Daily_Pratice.ipynb\" target=\"_parent\"><img src=\"https://colab.research.google.com/assets/colab-badge.svg\" alt=\"Open In Colab\"/></a>"
      ]
    },
    {
      "cell_type": "markdown",
      "source": [
        "Problem Description\n",
        "\n",
        "Given an index k, return the kth row of the Pascal's triangle.\n",
        "Pascal's triangle: To generate A[C] in row R, sum up A'[C] and A'[C-1] from previous row R - 1.\n",
        "\n",
        "Example:\n",
        "\n",
        "Input : k = 3\n",
        "\n",
        "\n",
        "Return : [1,3,3,1]\n",
        "\n",
        "Note: k is 0 based. k = 0, corresponds to the row [1]. \n",
        "\n",
        "Note: Could you optimize your algorithm to use only O(k) extra space?\n",
        "\n"
      ],
      "metadata": {
        "id": "AmrAJ-ar8isA"
      }
    },
    {
      "cell_type": "code",
      "source": [
        "def pascal(A):\n",
        "  A = A + 1\n",
        "  ret = []\n",
        "  if A == 0:\n",
        "    return ret\n",
        "  else:\n",
        "    ret = [[1]]\n",
        "    for i in range(2,A + 1):\n",
        "      ret.append([0] * i)\n",
        "      ret[i-1][0] = 1\n",
        "      ret[i - 1][-1] = 1\n",
        "      for j in range(1,i-1):\n",
        "        ret[i-1][j] = ret[i-2][j-1]+ret[i-2][j]\n",
        "  return ret[A-1]"
      ],
      "metadata": {
        "id": "v7Bv-0q97wGT"
      },
      "execution_count": 11,
      "outputs": []
    },
    {
      "cell_type": "code",
      "source": [
        "pascal(3)"
      ],
      "metadata": {
        "colab": {
          "base_uri": "https://localhost:8080/"
        },
        "id": "uguLfehR7x3q",
        "outputId": "9ce3e505-8cbd-4dc5-bfc1-ac7d36c2287b"
      },
      "execution_count": 12,
      "outputs": [
        {
          "output_type": "execute_result",
          "data": {
            "text/plain": [
              "[1, 3, 3, 1]"
            ]
          },
          "metadata": {},
          "execution_count": 12
        }
      ]
    }
  ]
}