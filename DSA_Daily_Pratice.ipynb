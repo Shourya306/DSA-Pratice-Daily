{
  "nbformat": 4,
  "nbformat_minor": 0,
  "metadata": {
    "colab": {
      "name": "DSA Daily Pratice.ipynb",
      "provenance": [],
      "collapsed_sections": [],
      "authorship_tag": "ABX9TyMa8ggJkqrcrDGxjUM0UDBk",
      "include_colab_link": true
    },
    "kernelspec": {
      "name": "python3",
      "display_name": "Python 3"
    },
    "language_info": {
      "name": "python"
    }
  },
  "cells": [
    {
      "cell_type": "markdown",
      "metadata": {
        "id": "view-in-github",
        "colab_type": "text"
      },
      "source": [
        "<a href=\"https://colab.research.google.com/github/Shourya306/DSA-Pratice-Daily/blob/main/DSA_Daily_Pratice.ipynb\" target=\"_parent\"><img src=\"https://colab.research.google.com/assets/colab-badge.svg\" alt=\"Open In Colab\"/></a>"
      ]
    },
    {
      "cell_type": "markdown",
      "source": [
        "**Sort array with squares!**\n",
        "\n",
        "Problem Description\n",
        "\n",
        "Given a sorted array A containing N integers both positive and negative.\n",
        "\n",
        "You need to create another array containing the squares of all the elements in A and return it in non-decreasing order.\n",
        "\n",
        "\n",
        "\n"
      ],
      "metadata": {
        "id": "fxvcJ5Qe3uBZ"
      }
    },
    {
      "cell_type": "code",
      "source": [
        "def Sort_array_with_squares(A):\n",
        "  square_list = []\n",
        "  for num in A:\n",
        "    square_list.append(num**2)\n",
        "  return sorted(square_list)"
      ],
      "metadata": {
        "id": "F_MQvRN-0d03"
      },
      "execution_count": 1,
      "outputs": []
    },
    {
      "cell_type": "code",
      "source": [
        "Sort_array_with_squares([-5, -4, -2, 0, 1])"
      ],
      "metadata": {
        "colab": {
          "base_uri": "https://localhost:8080/"
        },
        "id": "QEec2dIy2Emc",
        "outputId": "ad0e1b33-ac58-4b4b-8c1a-e0aa1084bac2"
      },
      "execution_count": 3,
      "outputs": [
        {
          "output_type": "execute_result",
          "data": {
            "text/plain": [
              "[0, 1, 4, 16, 25]"
            ]
          },
          "metadata": {},
          "execution_count": 3
        }
      ]
    }
  ]
}