{
  "nbformat": 4,
  "nbformat_minor": 0,
  "metadata": {
    "colab": {
      "provenance": []
    },
    "kernelspec": {
      "name": "python3",
      "display_name": "Python 3"
    },
    "language_info": {
      "name": "python"
    }
  },
  "cells": [
    {
      "cell_type": "markdown",
      "source": [
        "**Palindromic Words**\n",
        "\n",
        "Given a sentence as a string A.\n",
        "\n",
        "Return the number of palindromic words in the sentence.\n",
        "\n",
        "Input 1:\n",
        "\n",
        "A = \"the fastest racecar\"\n",
        "\n",
        "Input 2:\n",
        "\n",
        "A = \"wow mom\"\n",
        "\n",
        "Output 1:\n",
        "\n",
        "1\n",
        "\n",
        "Output 2:\n",
        "\n",
        "2\n"
      ],
      "metadata": {
        "id": "PyVdISYZs4sq"
      }
    },
    {
      "cell_type": "code",
      "execution_count": null,
      "metadata": {
        "id": "mJuJb6l9XRki"
      },
      "outputs": [],
      "source": [
        "def palindromic_words(string):\n",
        "  count = 0\n",
        "  split_string = string.split(' ')\n",
        "  for word in split_string:\n",
        "    if word == word[::-1]:\n",
        "      count = count + 1\n",
        "  return count"
      ]
    },
    {
      "cell_type": "code",
      "source": [
        "palindromic_words('wow mom')"
      ],
      "metadata": {
        "colab": {
          "base_uri": "https://localhost:8080/"
        },
        "id": "mjIgB9lsz6pa",
        "outputId": "13752f36-93ad-400d-e5ab-3808c46eb5cc"
      },
      "execution_count": null,
      "outputs": [
        {
          "output_type": "execute_result",
          "data": {
            "text/plain": [
              "2"
            ]
          },
          "metadata": {},
          "execution_count": 66
        }
      ]
    },
    {
      "cell_type": "code",
      "source": [
        "palindromic_words('the fastest racecar')"
      ],
      "metadata": {
        "colab": {
          "base_uri": "https://localhost:8080/"
        },
        "id": "YcLmlfAH0DcP",
        "outputId": "d5246632-6da3-4a5d-97ba-56a4565424c4"
      },
      "execution_count": null,
      "outputs": [
        {
          "output_type": "execute_result",
          "data": {
            "text/plain": [
              "1"
            ]
          },
          "metadata": {},
          "execution_count": 67
        }
      ]
    },
    {
      "cell_type": "markdown",
      "source": [
        "\n",
        "\n",
        "**Positive Negative**\n",
        "\n",
        "Given an integer array A.\n",
        "\n",
        "Find the number of positive and negative integers in it an return them in an array.\n",
        "\n",
        "Example Input:\n",
        "\n",
        "Input 1:\n",
        "\n",
        "A = [1, 2, 3]\n",
        "\n",
        "Input 2:\n",
        "\n",
        "A = [1, 0, -1]\n",
        "\n",
        "Example Output:\n",
        "\n",
        "Output 1:\n",
        "\n",
        "[3, 0]\n",
        "\n",
        "Output 2:\n",
        "\n",
        "[1, 1]\n",
        "\n",
        "\n",
        "\n",
        "\n"
      ],
      "metadata": {
        "id": "safPS3b4TNw1"
      }
    },
    {
      "cell_type": "code",
      "source": [
        "def count_positive_negetive(array):\n",
        "  '''This function returns the count of positive and negetive numbers in an input array'''\n",
        "  count1 = 0\n",
        "  count2 = 0\n",
        "  for i in array:\n",
        "    if i < 0:\n",
        "      count1 = count1 + 1\n",
        "    elif i > 0:\n",
        "      count2 = count2 + 1\n",
        "  return [count2,count1]\n"
      ],
      "metadata": {
        "id": "Ll2X_qLLTNYh"
      },
      "execution_count": null,
      "outputs": []
    },
    {
      "cell_type": "code",
      "source": [
        "count_positive_negetive([1,2,3])"
      ],
      "metadata": {
        "colab": {
          "base_uri": "https://localhost:8080/"
        },
        "id": "dZxfgP-hX9L5",
        "outputId": "e3d726e1-db3e-4d3d-de15-80872f90626e"
      },
      "execution_count": null,
      "outputs": [
        {
          "output_type": "execute_result",
          "data": {
            "text/plain": [
              "[3, 0]"
            ]
          },
          "metadata": {},
          "execution_count": 25
        }
      ]
    },
    {
      "cell_type": "code",
      "source": [
        "count_positive_negetive([1,0,-1])"
      ],
      "metadata": {
        "colab": {
          "base_uri": "https://localhost:8080/"
        },
        "id": "3cBsZKQEYWQX",
        "outputId": "87d0940c-fd29-4876-dfc2-449eae1aacee"
      },
      "execution_count": null,
      "outputs": [
        {
          "output_type": "execute_result",
          "data": {
            "text/plain": [
              "[1, 1]"
            ]
          },
          "metadata": {},
          "execution_count": 26
        }
      ]
    },
    {
      "cell_type": "code",
      "source": [
        "list(range(10))"
      ],
      "metadata": {
        "colab": {
          "base_uri": "https://localhost:8080/"
        },
        "id": "TX0lUeR6ZfFi",
        "outputId": "a19adecd-4d32-4c20-a25b-9990d2603ab9"
      },
      "execution_count": null,
      "outputs": [
        {
          "output_type": "execute_result",
          "data": {
            "text/plain": [
              "[0, 1, 2, 3, 4, 5, 6, 7, 8, 9]"
            ]
          },
          "metadata": {},
          "execution_count": 29
        }
      ]
    },
    {
      "cell_type": "code",
      "source": [
        "1 in range(10)"
      ],
      "metadata": {
        "colab": {
          "base_uri": "https://localhost:8080/"
        },
        "id": "1DPT5F8fa0Pt",
        "outputId": "f3109f6b-7eff-41de-ac29-52499ff53459"
      },
      "execution_count": null,
      "outputs": [
        {
          "output_type": "execute_result",
          "data": {
            "text/plain": [
              "True"
            ]
          },
          "metadata": {},
          "execution_count": 31
        }
      ]
    },
    {
      "cell_type": "markdown",
      "source": [
        "**Valid Password**\n",
        "\n",
        "Given a password as a character array A.\n",
        "\n",
        "Check if it is valid or not.\n",
        "\n",
        "  * Password should have at least one numerical digit(0-9).\n",
        "\n",
        "  * Password's length should be in between 8 to 15 characters.\n",
        "\n",
        "  * Password should have at least one lowercase letter(a-z).\n",
        "\n",
        "  * Password should have at least one uppercase letter(A-Z).\n",
        "\n",
        "  * Password should have at least one special character ( @, #, %, &, !, $, *)."
      ],
      "metadata": {
        "id": "ac9-YBXgYt7y"
      }
    },
    {
      "cell_type": "code",
      "source": [
        "def valid_password(password):\n",
        "  '''This function checks if the password is valid or not'''\n",
        "  if (len(password)<8 or len(password)>15):\n",
        "    return 0\n",
        "  s=c=d=ss=False\n",
        "  for i in password:\n",
        "    if (i >= 'a' and i <= 'z'):\n",
        "      s = True\n",
        "    elif (i >= 'A' and i <= 'Z'):\n",
        "      c = True\n",
        "    elif (i in \"@#%&!$*\"):\n",
        "      ss = True\n",
        "    elif (i >= '0' and i <= '9'):\n",
        "      d = True\n",
        "  if (s and c and ss and d):\n",
        "    return 1\n",
        "  return 0\n",
        "    "
      ],
      "metadata": {
        "id": "E6vidRIvbwhT"
      },
      "execution_count": null,
      "outputs": []
    },
    {
      "cell_type": "code",
      "source": [
        "valid_password(['S', 'c', 'a', 'l', 'e', 'r', '@', '1'])"
      ],
      "metadata": {
        "colab": {
          "base_uri": "https://localhost:8080/"
        },
        "id": "l3xuKQjszUXL",
        "outputId": "0c4f67f7-0067-4d90-d860-6d7d9ea39c8c"
      },
      "execution_count": null,
      "outputs": [
        {
          "output_type": "execute_result",
          "data": {
            "text/plain": [
              "1"
            ]
          },
          "metadata": {},
          "execution_count": 83
        }
      ]
    },
    {
      "cell_type": "code",
      "source": [
        "# New approach\n",
        "def password(A):\n",
        "  count1 = 0\n",
        "  count2 = 0\n",
        "  count3 = 0\n",
        "  count4 = 0\n",
        "  if (len(A) >= 8) & (len(A) <=15):\n",
        "    for i in A:\n",
        "      if i in '0123456789':\n",
        "        count1 = count1 + 1\n",
        "    for j in A:\n",
        "      if j in 'abcdefghijklmnopqrstuvwxyz':\n",
        "        count2 = count2 + 1\n",
        "    for k in A:\n",
        "      if k in 'ABCDEFGHIJKLMNOPQRSTUVWQYZ':\n",
        "        count3 = count3 + 1\n",
        "    for l in A:\n",
        "      if l in '@#%&!$*':\n",
        "        count4 = count4 + 1\n",
        "    print(count1,count2,count3,count4)\n",
        "    if count1 & count2 & count3 & count4 >=1:\n",
        "      print('valid password')\n",
        "    else:\n",
        "      print('invalid password') \n",
        "  else:\n",
        "    print('invalid password')     "
      ],
      "metadata": {
        "id": "66SFH-7S_UEK"
      },
      "execution_count": null,
      "outputs": []
    },
    {
      "cell_type": "markdown",
      "source": [
        "**Diagonal Flip**\n",
        "\n",
        "Given a square binary matrix of drimensions N×N.\n",
        "Flip the matrix diagonally and return the matrix.\n",
        "\n",
        "Input 1:\n",
        "\n",
        "A = 4\n",
        "\n",
        "B = [[1, 0],\n",
        "     [0, 1]]\n",
        "\n",
        "Input 2:\n",
        "\n",
        "A = [[1, 0],\n",
        "     [1, 0]]\n",
        "Output 1:\n",
        "\n",
        "[[1, 0],\n",
        " [0, 1]]\n",
        " \n",
        "Output 2:\n",
        "\n",
        "[[1, 1],\n",
        " [0, 0]]\n"
      ],
      "metadata": {
        "id": "Ra6izHLV6W7n"
      }
    },
    {
      "cell_type": "code",
      "source": [
        "def transpose(matrix):\n",
        "  '''This function transposes the inputed matrix'''\n",
        "  list_1 = []\n",
        "  list_2 = []\n",
        "  # Appending the values of matrix in both the lists.\n",
        "  list_1.append(matrix[0][0])\n",
        "  list_1.append(matrix[1][0])\n",
        "  list_2.append(matrix[0][1])\n",
        "  list_2.append(matrix[1][1])\n",
        "  return [list_1,list_2]"
      ],
      "metadata": {
        "id": "hEI8zNXL9s5c"
      },
      "execution_count": null,
      "outputs": []
    },
    {
      "cell_type": "code",
      "source": [
        "transpose([[1,0],[1,0]])"
      ],
      "metadata": {
        "colab": {
          "base_uri": "https://localhost:8080/"
        },
        "id": "z-sIKsnO2j1h",
        "outputId": "47fe8573-1fe2-4fd0-bee3-37364cefaf8e"
      },
      "execution_count": null,
      "outputs": [
        {
          "output_type": "execute_result",
          "data": {
            "text/plain": [
              "[[1, 1], [0, 0]]"
            ]
          },
          "metadata": {},
          "execution_count": 20
        }
      ]
    },
    {
      "cell_type": "markdown",
      "source": [
        "**StringInversion**\n",
        "\n",
        "Given a string A. Change the cases of all the characters.\n",
        "If the character is lowercase convert it to uppercase and if the character is uppercase convert it to lowercase."
      ],
      "metadata": {
        "id": "Rx48ZPS1Etp5"
      }
    },
    {
      "cell_type": "code",
      "source": [
        "def stringinversion(string):\n",
        "  empty_string = ''\n",
        "  for letter in string:\n",
        "    if letter.isupper():\n",
        "      empty_string = empty_string + letter.lower()\n",
        "    else:\n",
        "      empty_string = empty_string + letter.upper()\n",
        "  return empty_string"
      ],
      "metadata": {
        "id": "7skkK7A8Eqg-"
      },
      "execution_count": null,
      "outputs": []
    },
    {
      "cell_type": "code",
      "source": [
        "stringinversion('Sh')"
      ],
      "metadata": {
        "colab": {
          "base_uri": "https://localhost:8080/",
          "height": 35
        },
        "id": "25ZSDOH24aXp",
        "outputId": "b563df7d-21d0-400e-d28a-11bf2a277c66"
      },
      "execution_count": null,
      "outputs": [
        {
          "output_type": "execute_result",
          "data": {
            "text/plain": [
              "'sH'"
            ],
            "application/vnd.google.colaboratory.intrinsic+json": {
              "type": "string"
            }
          },
          "metadata": {},
          "execution_count": 67
        }
      ]
    },
    {
      "cell_type": "code",
      "source": [
        "# Learn from this mistake\n",
        "def stringinversion(string):\n",
        "  empty_string = ''\n",
        "  for letter in string:\n",
        "    if letter.isupper():\n",
        "      x = empty_string + letter.lower()\n",
        "    else:\n",
        "     x = empty_string + letter.upper()\n",
        "  return x"
      ],
      "metadata": {
        "id": "QbPbQJlQFEvB"
      },
      "execution_count": null,
      "outputs": []
    },
    {
      "cell_type": "code",
      "source": [],
      "metadata": {
        "colab": {
          "base_uri": "https://localhost:8080/",
          "height": 35
        },
        "id": "FrZVAi9PFM-2",
        "outputId": "99451b8f-22f7-46f8-ed4a-165ae77a4f84"
      },
      "execution_count": null,
      "outputs": [
        {
          "output_type": "execute_result",
          "data": {
            "text/plain": [
              "'R'"
            ],
            "application/vnd.google.colaboratory.intrinsic+json": {
              "type": "string"
            }
          },
          "metadata": {},
          "execution_count": 74
        }
      ]
    },
    {
      "cell_type": "markdown",
      "source": [
        "Given a string A consisting of only characters 'a' and 'b'.\n",
        "Divide the string into substrings of length B.\n",
        "Find the subtring with maximum count of 'a' and return the count.\n",
        "\n",
        "Note: If the length of the string is not a multiple of B and there are some characters left in the end consider them also as a substring.\n",
        "\n",
        "Input 1:\n",
        "\n",
        "A = \"baab\"\n",
        "\n",
        "B = 2\n",
        "\n",
        "Input 2:\n",
        "\n",
        "A = \"bba\"\n",
        "\n",
        "B = 2"
      ],
      "metadata": {
        "id": "xQqUpLaHj0WK"
      }
    },
    {
      "cell_type": "code",
      "source": [
        "# Step 1 Dividing the string 'A' with an integer 'B'\n",
        "def maximum_substring(A,B):\n",
        "  x = round(len(A) / B)\n",
        "  string1 = A[:x - 1]\n",
        "  string2 = A[(x):]\n",
        "# Step 2 Returning the max counts of a in a particular string.\n",
        "  if string1.count('a') > string2.count('a'):\n",
        "    return string1.count('a')\n",
        "  else:\n",
        "    return string2.count('a')"
      ],
      "metadata": {
        "id": "TevPdPlMjxmv"
      },
      "execution_count": null,
      "outputs": []
    },
    {
      "cell_type": "code",
      "source": [
        "maximum_substring('baaba',2)"
      ],
      "metadata": {
        "colab": {
          "base_uri": "https://localhost:8080/"
        },
        "id": "ZRMCm7nPiAxE",
        "outputId": "9a4aa81e-03ed-46f5-d144-2b3215231167"
      },
      "execution_count": null,
      "outputs": [
        {
          "output_type": "execute_result",
          "data": {
            "text/plain": [
              "2"
            ]
          },
          "metadata": {},
          "execution_count": 12
        }
      ]
    },
    {
      "cell_type": "markdown",
      "source": [
        "Given an integer array A.\n",
        "Find the count of elements whose value is greater than all of its previous elements.\n",
        "\n",
        "Note: Since there are no elements before first element so it should be considered in our answer."
      ],
      "metadata": {
        "id": "hUBk3FUb8A3B"
      }
    },
    {
      "cell_type": "code",
      "source": [
        "def greater_than_all(num):\n",
        "  current_max = 0\n",
        "  ans = 0\n",
        "  for i in num:\n",
        "    if i > current_max:\n",
        "      ans = ans + 1\n",
        "      current_max = i\n",
        "  return ans"
      ],
      "metadata": {
        "id": "fDhaKHPTGKCE"
      },
      "execution_count": null,
      "outputs": []
    },
    {
      "cell_type": "code",
      "source": [
        "greater_than_all([1,1,2,2])"
      ],
      "metadata": {
        "colab": {
          "base_uri": "https://localhost:8080/"
        },
        "id": "ujNZbCk279Bt",
        "outputId": "6cad8cad-db95-4224-f43e-1432b564f3f2"
      },
      "execution_count": null,
      "outputs": [
        {
          "output_type": "execute_result",
          "data": {
            "text/plain": [
              "2"
            ]
          },
          "metadata": {},
          "execution_count": 33
        }
      ]
    },
    {
      "cell_type": "code",
      "source": [
        "greater_than_all([1,2,3,4])"
      ],
      "metadata": {
        "colab": {
          "base_uri": "https://localhost:8080/"
        },
        "id": "kIloZ0ry79tG",
        "outputId": "1c10e318-0c56-48a0-950b-ad32d99db10a"
      },
      "execution_count": null,
      "outputs": [
        {
          "output_type": "execute_result",
          "data": {
            "text/plain": [
              "4"
            ]
          },
          "metadata": {},
          "execution_count": 34
        }
      ]
    },
    {
      "cell_type": "markdown",
      "source": [
        "**Chips Factory**\n",
        "\n",
        "\n",
        "\n",
        "A chips factory is packing chips in packets.\n",
        "The packets of chips are represented as an array A.\n",
        "\n",
        "Find the packet of chips which are empty (Ai = 0) and move them to the end the array.\n",
        "\n",
        "Return the resultant array."
      ],
      "metadata": {
        "id": "q1rTe1AI0bx1"
      }
    },
    {
      "cell_type": "code",
      "source": [
        "def chips_factory(list_1):\n",
        "  e = []\n",
        "  e1 = []\n",
        "  for i in list_1:\n",
        "    if i > 0:\n",
        "     e.append(i)\n",
        "    if i == 0:\n",
        "      e1.append(i)\n",
        "  return e + e1\n",
        "  "
      ],
      "metadata": {
        "id": "n7tVDgY70cPa"
      },
      "execution_count": null,
      "outputs": []
    },
    {
      "cell_type": "code",
      "source": [
        "chips_factory([0,1,2,3])"
      ],
      "metadata": {
        "colab": {
          "base_uri": "https://localhost:8080/"
        },
        "id": "CtnlIgWx0ec4",
        "outputId": "8f71175c-3411-46eb-fc0d-18520503b613"
      },
      "execution_count": null,
      "outputs": [
        {
          "output_type": "execute_result",
          "data": {
            "text/plain": [
              "[1, 2, 3, 0]"
            ]
          },
          "metadata": {},
          "execution_count": 2
        }
      ]
    },
    {
      "cell_type": "code",
      "source": [
        "chips_factory([1,0,0,0])"
      ],
      "metadata": {
        "colab": {
          "base_uri": "https://localhost:8080/"
        },
        "id": "XFyOlXtr0g6j",
        "outputId": "899db174-b17c-49ef-a5a1-619bb199d47d"
      },
      "execution_count": null,
      "outputs": [
        {
          "output_type": "execute_result",
          "data": {
            "text/plain": [
              "[1, 0, 0, 0]"
            ]
          },
          "metadata": {},
          "execution_count": 3
        }
      ]
    },
    {
      "cell_type": "markdown",
      "source": [
        "**Frequency_of_Characters**\n",
        "\n",
        "Given a string A, find the frequency of all the characters in it.\n",
        "\n",
        "Input 1:\n",
        "\n",
        "A = \"abcdefghijklmnopqrstuvwxyz\"\n",
        "\n",
        "Input 2:\n",
        "\n",
        "A = \"interviewbit\"\n",
        "\n",
        "Output 1:\n",
        "\n",
        "[1, 1, 1, 1, 1, 1, 1, 1, 1, 1, 1, 1, 1, 1, 1, 1, 1, 1, 1, 1, 1, 1, 1, 1, 1, 1]\n",
        "\n",
        "Output 2:\n",
        "\n",
        "[0, 1, 0, 0, 2, 0, 0, 0, 3, 0, 0, 0, 0, 1, 0, 0, 0, 1, 0, 2, 0, 1, 1, 0, 0, 0]"
      ],
      "metadata": {
        "id": "AceQEWAPp-EH"
      }
    },
    {
      "cell_type": "code",
      "source": [
        "def Frequency_of_Characters(string):\n",
        "  A = 'abcdefghijklmnopqrstuvwqyz'\n",
        "  freq = []\n",
        "  for i in A:\n",
        "    freq.append(string.count(i))\n",
        "  return freq\n"
      ],
      "metadata": {
        "id": "6uslRFkVqAD4"
      },
      "execution_count": null,
      "outputs": []
    },
    {
      "cell_type": "code",
      "source": [
        "Frequency_of_Characters(\"interviewbit\")"
      ],
      "metadata": {
        "id": "LfNnXZpBqB_G",
        "outputId": "1d128da7-9239-4db0-f189-3f7e24d6a31b",
        "colab": {
          "base_uri": "https://localhost:8080/"
        }
      },
      "execution_count": null,
      "outputs": [
        {
          "output_type": "execute_result",
          "data": {
            "text/plain": [
              "[0, 1, 0, 0, 2, 0, 0, 0, 3, 0, 0, 0, 0, 1, 0, 0, 0, 1, 0, 2, 0, 1, 1, 0, 0, 0]"
            ]
          },
          "metadata": {},
          "execution_count": 2
        }
      ]
    },
    {
      "cell_type": "markdown",
      "source": [
        "**Greater of Lesser**\n",
        "\n",
        "Given two integer arrays A and B, and an integer C.\n",
        "\n",
        "Find the number of integers in A which are greater than C and find the number of integers in B which are less than C.\n",
        "\n",
        "Return maximum of these two values.\n",
        "\n",
        "Input 1:\n",
        "\n",
        "A = [1, 2, 3, 4]\n",
        "\n",
        "B = [5, 6, 7, 8]\n",
        "\n",
        "C = 4\n",
        "Input 2:\n",
        "\n",
        "A = [1, 10, 100]\n",
        "\n",
        "B = [9, 9, 9]\n",
        "\n",
        "C = 50\n",
        "\n",
        "Output 1:\n",
        "\n",
        "0\n",
        "\n",
        "Output 2:\n",
        "\n",
        "3"
      ],
      "metadata": {
        "id": "m3wogZv4A0Eo"
      }
    },
    {
      "cell_type": "code",
      "source": [
        "def Greater_of_Lesser(A,B,C):\n",
        "  count = 0\n",
        "  count1 = 0\n",
        "  c_list = []\n",
        "  for i in A:\n",
        "    if i > C:\n",
        "      count = count + 1\n",
        "  for j in B:\n",
        "    if j < C:\n",
        "      count1 = count1 + 1\n",
        "  c_list.append(count)\n",
        "  c_list.append(count1)\n",
        "  return max(c_list)"
      ],
      "metadata": {
        "id": "pP2TtKsNsvp6"
      },
      "execution_count": null,
      "outputs": []
    },
    {
      "cell_type": "code",
      "source": [
        "Greater_of_Lesser([1, 2, 3, 4],[5, 6, 7, 8],4)"
      ],
      "metadata": {
        "colab": {
          "base_uri": "https://localhost:8080/"
        },
        "id": "VDgYuazFA5N3",
        "outputId": "f1739ef7-8265-4a7b-e121-a8726694068e"
      },
      "execution_count": null,
      "outputs": [
        {
          "output_type": "execute_result",
          "data": {
            "text/plain": [
              "0"
            ]
          },
          "metadata": {},
          "execution_count": 2
        }
      ]
    },
    {
      "cell_type": "code",
      "source": [
        "Greater_of_Lesser([1, 10, 100],[9, 9, 9],50)"
      ],
      "metadata": {
        "colab": {
          "base_uri": "https://localhost:8080/"
        },
        "id": "JXRYsMcPA69e",
        "outputId": "eb71ed33-20a1-44a1-f58b-b066caf10329"
      },
      "execution_count": null,
      "outputs": [
        {
          "output_type": "execute_result",
          "data": {
            "text/plain": [
              "3"
            ]
          },
          "metadata": {},
          "execution_count": 3
        }
      ]
    },
    {
      "cell_type": "markdown",
      "source": [
        "###Pythagorean triplets\n",
        "\n",
        "A Pythagorean triplet is a set of three integers a, b and c such that a2 + b2 = c2.\n",
        "\n",
        "Find the number of pythagorean triplets such that all the elements of the triplet are less than or equal to A.\n",
        "\n",
        "Input 1:\n",
        "\n",
        "A = 5\n",
        "\n",
        "Input 2:\n",
        "\n",
        "A = 13\n",
        "\n",
        "Output 1:\n",
        "\n",
        "1\n",
        "\n",
        "Output 2:\n",
        "\n",
        "3\n",
        "\n",
        "Explanation 1:\n",
        "\n",
        "Then only triplet is {3, 4, 5}\n",
        "\n",
        "Explanation 2:\n",
        "\n",
        "The triplets are {3, 4, 5}, {6, 8, 10}, {5, 12, 13}.\n"
      ],
      "metadata": {
        "id": "P0Ej5RGgiW0u"
      }
    },
    {
      "cell_type": "code",
      "source": [
        "def triplets(num):\n",
        "  count = 0\n",
        "  for i in range(1,num + 1):\n",
        "    for j in range(1,num + 1):\n",
        "      for k in range(1,num + 1):\n",
        "        if (i**2) + (j**2) == (k**2):\n",
        "          count = count + 1\n",
        "  return int(count/2)"
      ],
      "metadata": {
        "id": "-3hSFtWMiXSb"
      },
      "execution_count": null,
      "outputs": []
    },
    {
      "cell_type": "code",
      "source": [
        "triplets(13)"
      ],
      "metadata": {
        "colab": {
          "base_uri": "https://localhost:8080/"
        },
        "id": "_V7BDy5MiZbR",
        "outputId": "a862ed42-58c4-439e-fdb1-233176273918"
      },
      "execution_count": null,
      "outputs": [
        {
          "output_type": "execute_result",
          "data": {
            "text/plain": [
              "3"
            ]
          },
          "metadata": {},
          "execution_count": 2
        }
      ]
    },
    {
      "cell_type": "markdown",
      "source": [
        " ***Character Frequencies***\n",
        "\n",
        "Given a string A containing only lowercase characters.\n",
        "\n",
        "Find the frequencies of the characters in order of their occurrence.\n",
        "\n",
        "Input 1:\n",
        "\n",
        "A = \"interviewbit\"\n",
        "\n",
        "Input 2:\n",
        "\n",
        "A = \"scaler\"\n",
        "\n",
        "Output 1:\n",
        "\n",
        "[3, 1, 2, 2, 1, 1, 1, 1]\n",
        "\n",
        "Output 2:\n",
        "\n",
        "[1, 1, 1, 1, 1, 1]\n",
        "\n"
      ],
      "metadata": {
        "id": "hbLMdgPlNtN8"
      }
    },
    {
      "cell_type": "code",
      "source": [
        "# New method for char frequencies.\n",
        "def char_freq(A):\n",
        "  char_list = []\n",
        "  for index,i in enumerate(A):\n",
        "    if i not in A[:index]:\n",
        "      char_list.append(A.count(i))\n",
        "  return char_list"
      ],
      "metadata": {
        "id": "AwolBhqfU5o9"
      },
      "execution_count": null,
      "outputs": []
    },
    {
      "cell_type": "code",
      "source": [
        "char_freq('interviewbit')"
      ],
      "metadata": {
        "id": "Dq29tHxsU8GH"
      },
      "execution_count": null,
      "outputs": []
    },
    {
      "cell_type": "code",
      "source": [
        "char_freq('scaler')"
      ],
      "metadata": {
        "id": "CDM1OpK-U9qA"
      },
      "execution_count": null,
      "outputs": []
    },
    {
      "cell_type": "code",
      "source": [
        "def Character_Frequencies(A):\n",
        "  index = 0\n",
        "  list_1 = []\n",
        "  for i in range(len(A)):\n",
        "    if A[i] not in A[:index]:\n",
        "      list_1.append(A.count(A[i]))\n",
        "      index = index + 1\n",
        "  return list_1"
      ],
      "metadata": {
        "id": "2BQQA5FZNthe"
      },
      "execution_count": null,
      "outputs": []
    },
    {
      "cell_type": "code",
      "source": [
        "Character_Frequencies('interviewbit')"
      ],
      "metadata": {
        "id": "YhgVZXfwNwAp",
        "outputId": "3154ff21-b9d6-43ec-d18b-ed521f0dd7d9",
        "colab": {
          "base_uri": "https://localhost:8080/"
        }
      },
      "execution_count": null,
      "outputs": [
        {
          "output_type": "execute_result",
          "data": {
            "text/plain": [
              "[3, 1, 2, 2, 1, 1, 1, 1]"
            ]
          },
          "metadata": {},
          "execution_count": 2
        }
      ]
    },
    {
      "cell_type": "markdown",
      "source": [
        "**Max Min**\n",
        "\n",
        "Problem Description\n",
        "\n",
        "Given an array A of size N. You need to find the sum of Maximum and Minimum element in the given array.\n",
        "\n",
        "Input 1:\n",
        "\n",
        " A = [-2, 1, -4, 5, 3]\n",
        "\n",
        " Input 2:\n",
        "\n",
        " A = [1, 3, 4, 1]\n",
        "\n",
        " Output 1:\n",
        "\n",
        " 1\n",
        "Output 2:\n",
        "\n",
        " 5"
      ],
      "metadata": {
        "id": "K_iRYHfX-4Vm"
      }
    },
    {
      "cell_type": "code",
      "source": [
        "def max_min(A):\n",
        "  maxi = max(A)\n",
        "  mini = min(A)\n",
        "  return maxi - mini\n"
      ],
      "metadata": {
        "id": "PV6ATFMc-40t"
      },
      "execution_count": null,
      "outputs": []
    },
    {
      "cell_type": "code",
      "source": [
        "def max_min(A):\n",
        "  mx = -float(\"inf\")\n",
        "  mi = float(\"inf\")\n",
        "\n",
        "  for i in range(len(A)):\n",
        "    val = A.pop()\n",
        "    if val > mx:\n",
        "        mx = val\n",
        "    if val < mi:\n",
        "        mi = val\n",
        "\n",
        "  return mx+mi"
      ],
      "metadata": {
        "id": "ZG55lcPP-62P"
      },
      "execution_count": null,
      "outputs": []
    },
    {
      "cell_type": "markdown",
      "source": [
        "**First Repeating element**\n",
        "\n",
        "Problem Description\n",
        "\n",
        "Given an integer array A of size N, find the first repeating element in it.\n",
        "\n",
        "We need to find the element that occurs more than once and whose index of first occurrence is smallest.\n",
        "\n",
        "If there is no repeating element, return -1.\n",
        "\n",
        "Input 1:\n",
        "\n",
        " A = [10, 5, 3, 4, 3, 5, 6]\n",
        "\n",
        "Input 2:\n",
        "\n",
        " A = [6, 10, 5, 4, 9, 120]\n",
        "\n",
        "Output 1:\n",
        "\n",
        " 5\n",
        " \n",
        "Output 2:\n",
        "\n",
        " -1"
      ],
      "metadata": {
        "id": "tUcnEpeks-uz"
      }
    },
    {
      "cell_type": "code",
      "source": [
        "def First_Repeating_element(A):\n",
        "  list_of_freq = []\n",
        "  for i in A:\n",
        "    list_of_freq.append(A.count(i))\n",
        "  print(list_of_freq)\n",
        "  if sum(list_of_freq) != len(A):\n",
        "    max_freq = max(list_of_freq)\n",
        "    max_freq_index = list_of_freq.index(max_freq)\n",
        "    return  A[max_freq_index]\n",
        "  else:\n",
        "    return -1"
      ],
      "metadata": {
        "id": "5FK_S0vhtBQ_"
      },
      "execution_count": null,
      "outputs": []
    },
    {
      "cell_type": "code",
      "source": [
        "First_Repeating_element([10, 5, 3, 4, 3, 5, 6])"
      ],
      "metadata": {
        "colab": {
          "base_uri": "https://localhost:8080/"
        },
        "id": "gdJmwkwZtEn9",
        "outputId": "bd4a959b-c167-4364-f41c-41c5ed305807"
      },
      "execution_count": null,
      "outputs": [
        {
          "output_type": "stream",
          "name": "stdout",
          "text": [
            "[1, 2, 2, 1, 2, 2, 1]\n"
          ]
        },
        {
          "output_type": "execute_result",
          "data": {
            "text/plain": [
              "5"
            ]
          },
          "metadata": {},
          "execution_count": 9
        }
      ]
    },
    {
      "cell_type": "code",
      "source": [
        "First_Repeating_element([6, 10, 5, 4, 9, 120])"
      ],
      "metadata": {
        "colab": {
          "base_uri": "https://localhost:8080/"
        },
        "id": "ZEw3tL_4tGNe",
        "outputId": "f267f487-6b39-4d07-e420-36adc017fb16"
      },
      "execution_count": null,
      "outputs": [
        {
          "output_type": "stream",
          "name": "stdout",
          "text": [
            "[1, 1, 1, 1, 1, 1]\n"
          ]
        },
        {
          "output_type": "execute_result",
          "data": {
            "text/plain": [
              "-1"
            ]
          },
          "metadata": {},
          "execution_count": 10
        }
      ]
    },
    {
      "cell_type": "markdown",
      "source": [
        "**Sort array with squares!**\n",
        "\n",
        "Problem Description\n",
        "\n",
        "Given a sorted array A containing N integers both positive and negative.\n",
        "\n",
        "You need to create another array containing the squares of all the elements in A and return it in non-decreasing order."
      ],
      "metadata": {
        "id": "Wm07YLq0r_H-"
      }
    },
    {
      "cell_type": "code",
      "source": [
        "def Sort_array_with_squares(A):\n",
        "  square_list = []\n",
        "  for num in A:\n",
        "    square_list.append(num**2)\n",
        "  return sorted(square_list)"
      ],
      "metadata": {
        "id": "-fAAooMLr_Xq"
      },
      "execution_count": null,
      "outputs": []
    },
    {
      "cell_type": "code",
      "source": [
        "Sort_array_with_squares([-5, -4, -2, 0, 1])"
      ],
      "metadata": {
        "id": "qDbt_VchsBdO",
        "outputId": "4d57ecad-4b83-4143-ee9e-bc0c05ebcbd1",
        "colab": {
          "base_uri": "https://localhost:8080/"
        }
      },
      "execution_count": null,
      "outputs": [
        {
          "output_type": "execute_result",
          "data": {
            "text/plain": [
              "[0, 1, 4, 16, 25]"
            ]
          },
          "metadata": {},
          "execution_count": 2
        }
      ]
    },
    {
      "cell_type": "markdown",
      "source": [
        "**Leaders in an array**\n",
        "\n",
        "Given an integer array A containing N distinct integers, you have to find all the leaders in the array A.\n",
        "\n",
        " An element is leader if it is strictly greater than all the elements to its right side.\n",
        "\n",
        "NOTE:The rightmost element is always a leader.\n",
        "\n",
        "Input 1:\n",
        "\n",
        " A = [16, 17, 4, 3, 5, 2]\n",
        "Input 2:\n",
        "\n",
        " A = [1, 2]\n",
        "\n",
        " Output 1:\n",
        "\n",
        " [17, 2, 5]\n",
        "\n",
        "Output 2:\n",
        "\n",
        " [2]"
      ],
      "metadata": {
        "id": "iFq-aSccFZD0"
      }
    },
    {
      "cell_type": "code",
      "source": [
        "# My solution for this problem.\n",
        "def leader_searching(A):\n",
        "  list_3 = []\n",
        "  index = 0\n",
        "  for i in A:\n",
        "    index = index + 1\n",
        "    if i > sum(A[index:]):\n",
        "      list_3.append(i)      \n",
        "  return list_3    "
      ],
      "metadata": {
        "id": "0iFti25cO1Ha"
      },
      "execution_count": null,
      "outputs": []
    },
    {
      "cell_type": "code",
      "source": [
        "leader_searching([16, 17, 4, 3, 5, 2])"
      ],
      "metadata": {
        "colab": {
          "base_uri": "https://localhost:8080/"
        },
        "id": "CD9JiRjlPhPK",
        "outputId": "5a1f1f7c-f114-4c9d-cdb5-a3b713e65870"
      },
      "execution_count": null,
      "outputs": [
        {
          "output_type": "execute_result",
          "data": {
            "text/plain": [
              "[17, 5, 2]"
            ]
          },
          "metadata": {},
          "execution_count": 40
        }
      ]
    },
    {
      "cell_type": "code",
      "source": [
        "def leader_searching(A):\n",
        "  m = A[-1]\n",
        "  list_1 = []\n",
        "  A.reverse()\n",
        "  for i in A:\n",
        "    if i >= m:\n",
        "      list_1.append(i)\n",
        "      m = i\n",
        "  return list_1"
      ],
      "metadata": {
        "id": "3vlyCY1gFZY1"
      },
      "execution_count": null,
      "outputs": []
    },
    {
      "cell_type": "code",
      "source": [
        "leader_searching([16, 17, 4, 3, 5, 2])"
      ],
      "metadata": {
        "colab": {
          "base_uri": "https://localhost:8080/"
        },
        "id": "5UzC4ynQFcSf",
        "outputId": "08062bea-8bef-47db-c18a-9beb85c3404b"
      },
      "execution_count": null,
      "outputs": [
        {
          "output_type": "execute_result",
          "data": {
            "text/plain": [
              "[2, 5, 17]"
            ]
          },
          "metadata": {},
          "execution_count": 69
        }
      ]
    },
    {
      "cell_type": "markdown",
      "source": [
        "**Minimum Parantheses!**\n",
        "\n",
        "Given a string A of parantheses  ‘(‘ or ‘)’.\n",
        "\n",
        "The task is to find minimum number of parentheses ‘(‘ or ‘)’ (at any positions) we must add to make the resulting parentheses string valid.\n",
        "\n",
        "An string is valid if:\n",
        "\n",
        "Open brackets must be closed by the corresponding closing bracket.\n",
        "Open brackets must be closed in the correct order.\n",
        "\n",
        "\n",
        "Input 1:\n",
        "\n",
        " A = \"())\"\n",
        "\n",
        "Input 2:\n",
        "\n",
        " A = \"(((\"\n",
        "\n",
        "Output 1:\n",
        "\n",
        " 1\n",
        "Output 2:\n",
        "\n",
        " 3"
      ],
      "metadata": {
        "id": "8YQIjngROltt"
      }
    },
    {
      "cell_type": "code",
      "source": [
        "def Minimum_Parantheses(A):\n",
        "  open_count = 0\n",
        "  closed_count = 0\n",
        "  for i in A:\n",
        "    if i == '(':\n",
        "      open_count = open_count + 1\n",
        "    else:\n",
        "      closed_count = closed_count + 1\n",
        "  if open_count == closed_count:\n",
        "    return 0\n",
        "  elif open_count > closed_count:\n",
        "    return open_count - closed_count\n",
        "  else:\n",
        "    return closed_count - open_count"
      ],
      "metadata": {
        "id": "XfQGxUCiFd9b"
      },
      "execution_count": null,
      "outputs": []
    },
    {
      "cell_type": "code",
      "source": [
        "Minimum_Parantheses(\"())\")"
      ],
      "metadata": {
        "colab": {
          "base_uri": "https://localhost:8080/"
        },
        "id": "ST87JsG6OUXp",
        "outputId": "f9958bc6-02aa-497e-b8f0-0c4098d49505"
      },
      "execution_count": null,
      "outputs": [
        {
          "output_type": "execute_result",
          "data": {
            "text/plain": [
              "1"
            ]
          },
          "metadata": {},
          "execution_count": 2
        }
      ]
    },
    {
      "cell_type": "code",
      "source": [
        "Minimum_Parantheses(\"(((\")"
      ],
      "metadata": {
        "colab": {
          "base_uri": "https://localhost:8080/"
        },
        "id": "G0yHtMK1OV4F",
        "outputId": "1a12021f-94a2-49d8-d533-91826bbd090b"
      },
      "execution_count": null,
      "outputs": [
        {
          "output_type": "execute_result",
          "data": {
            "text/plain": [
              "3"
            ]
          },
          "metadata": {},
          "execution_count": 3
        }
      ]
    },
    {
      "cell_type": "markdown",
      "source": [
        "Given a string A consisting of lowercase characters.\n",
        "\n",
        "Check if characters of the given string can be rearranged to form a palindrome.\n",
        "\n",
        "Return 1 if it is possible to rearrange the characters of the string A such that it becomes a palindrome else return 0.\n",
        "\n",
        "Input 1:\n",
        "\n",
        " A = \"abcde\"\n",
        "\n",
        "Input 2:\n",
        "\n",
        " A = \"abbaee\"\n",
        "\n",
        " Output 1:\n",
        "\n",
        " 0\n",
        "Output 2:\n",
        "\n",
        " 1"
      ],
      "metadata": {
        "id": "PwSxKbnEGEVT"
      }
    },
    {
      "cell_type": "code",
      "source": [
        "def check_palindrome(A):\n",
        "  list_pal = []\n",
        "  for i in A:\n",
        "    if A.count(i) % 2 == 0:\n",
        "      list_pal.append('even')\n",
        "    elif A.count(i) % 2 != 0:\n",
        "        list_pal.append('odd')\n",
        "  if list_pal.count('odd') <= 1:\n",
        "    return 1\n",
        "  else:\n",
        "    return 0"
      ],
      "metadata": {
        "id": "r_S74pW7GAGN"
      },
      "execution_count": null,
      "outputs": []
    },
    {
      "cell_type": "code",
      "source": [
        "check_palindrome('abcde')"
      ],
      "metadata": {
        "colab": {
          "base_uri": "https://localhost:8080/"
        },
        "id": "quhcDX5RGAXU",
        "outputId": "1ffcd564-7fbb-44c5-c4f9-d8350ef139d9"
      },
      "execution_count": null,
      "outputs": [
        {
          "output_type": "execute_result",
          "data": {
            "text/plain": [
              "0"
            ]
          },
          "metadata": {},
          "execution_count": 2
        }
      ]
    },
    {
      "cell_type": "code",
      "source": [
        "check_palindrome('abbaee')"
      ],
      "metadata": {
        "colab": {
          "base_uri": "https://localhost:8080/"
        },
        "id": "0gaVbbFPGBz4",
        "outputId": "10953f96-dcc9-4115-cb69-cb05909acba2"
      },
      "execution_count": null,
      "outputs": [
        {
          "output_type": "execute_result",
          "data": {
            "text/plain": [
              "1"
            ]
          },
          "metadata": {},
          "execution_count": 3
        }
      ]
    },
    {
      "cell_type": "code",
      "source": [
        "def leader(A):\n",
        "  m = A[-1]\n",
        "  leader = []\n",
        "  A.reverse()\n",
        "  for i in A:\n",
        "    if i >= m:\n",
        "      leader.append(i)\n",
        "      m = i\n",
        "  return leader\n"
      ],
      "metadata": {
        "id": "qKwTuHQoNPD6"
      },
      "execution_count": null,
      "outputs": []
    },
    {
      "cell_type": "code",
      "source": [
        "def par(A):\n",
        "  if A.count('(') > A.count(')'):\n",
        "    return A.count('(') - A.count(')')\n",
        "  elif A.count(')') > A.count('('):\n",
        "    return A.count(')') - A.count('(')\n",
        "  else:\n",
        "    return 0"
      ],
      "metadata": {
        "id": "csG9kTmjWCLh"
      },
      "execution_count": null,
      "outputs": []
    },
    {
      "cell_type": "code",
      "source": [
        "par(\"())\")"
      ],
      "metadata": {
        "id": "mTp1P2Q4YQ5N",
        "outputId": "f74e04cb-24ff-47d5-d10f-faac5d81374e",
        "colab": {
          "base_uri": "https://localhost:8080/"
        }
      },
      "execution_count": null,
      "outputs": [
        {
          "output_type": "execute_result",
          "data": {
            "text/plain": [
              "1"
            ]
          },
          "metadata": {},
          "execution_count": 98
        }
      ]
    },
    {
      "cell_type": "markdown",
      "source": [
        "**Check Palindrome!**\n",
        "\n",
        "Given a string A consisting of lowercase characters.\n",
        "\n",
        "Check if characters of the given string can be rearranged to form a palindrome.\n",
        "\n",
        "Return 1 if it is possible to rearrange the characters of the string A such that it becomes a palindrome else return 0.\n",
        "\n",
        "Input 1:\n",
        "\n",
        " A = \"abcde\"\n",
        "Input 2:\n",
        "\n",
        " A = \"abbaee\"\n",
        "\n",
        " Output 1:\n",
        "\n",
        " 0\n",
        "Output 2:\n",
        "\n",
        " 1\n",
        "\n",
        " Explanation 1:\n",
        "\n",
        " No possible rearrangement to make the string palindrome.\n",
        "Explanation 2:\n",
        "\n",
        " Given string \"abbaee\" can be rearranged to \"aebbea\" to form a palindrome."
      ],
      "metadata": {
        "id": "CbVrWknC1U8A"
      }
    },
    {
      "cell_type": "code",
      "source": [
        "def check_palindrome(A):\n",
        "  list_pal = []\n",
        "  index = 0\n",
        "  for i in A:\n",
        "    if i not in A[:index]:\n",
        "      if A.count(i) % 2 == 0:\n",
        "        list_pal.append('even')\n",
        "      elif A.count(i) % 2 != 0:\n",
        "          list_pal.append('odd')\n",
        "      index = index + 1\n",
        "  if list_pal.count('odd') <= 1:\n",
        "    return 1\n",
        "  else:\n",
        "    return 0"
      ],
      "metadata": {
        "id": "pL71nNcdYUIa"
      },
      "execution_count": null,
      "outputs": []
    },
    {
      "cell_type": "code",
      "source": [
        "check_palindrome('abcde')"
      ],
      "metadata": {
        "colab": {
          "base_uri": "https://localhost:8080/"
        },
        "id": "pphF-uEr1e-f",
        "outputId": "ec98f8a9-6978-4c7a-970f-538efde0a2b5"
      },
      "execution_count": null,
      "outputs": [
        {
          "output_type": "execute_result",
          "data": {
            "text/plain": [
              "0"
            ]
          },
          "metadata": {},
          "execution_count": 8
        }
      ]
    },
    {
      "cell_type": "markdown",
      "source": [
        "**Multiple left rotations of the array**\n",
        "\n",
        "Given an array of integers A and multiple values in B around which left rotation of the array A needs to be performed.\n",
        "\n",
        "Find the rotated array for each value and return the result in the from of a matrix where i’th row represents the rotated\n",
        "\n",
        "array for the i’th value in B.\n",
        "\n",
        "Input 1:\n",
        "\n",
        "    A = [1, 2, 3, 4, 5]\n",
        "\n",
        "    B = [2, 3]\n",
        "Output 1:\n",
        "\n",
        "    [ [3, 4, 5, 1, 2]\n",
        "      [4, 5, 1, 2, 3] ]\n",
        "\n",
        "Input 2:\n",
        "\n",
        "    A = [5, 17, 100, 11]\n",
        "    \n",
        "    B = [1]\n",
        "Output 2:\n",
        "\n",
        "    [ [17, 100, 11, 5] ]"
      ],
      "metadata": {
        "id": "0SLywq0TN3VD"
      }
    },
    {
      "cell_type": "code",
      "source": [
        "def multiple_rotations(A,B):\n",
        "  ans_list = []\n",
        "  for i in B:\n",
        "    i = i % len(A)\n",
        "    list_1 = A[i:]\n",
        "    list_1.extend(A[:i])\n",
        "    ans_list.append(list_1)\n",
        "  return ans_list"
      ],
      "metadata": {
        "id": "ryb86eOYN31G"
      },
      "execution_count": null,
      "outputs": []
    },
    {
      "cell_type": "code",
      "source": [
        "3 % 5"
      ],
      "metadata": {
        "colab": {
          "base_uri": "https://localhost:8080/"
        },
        "id": "Zut-7UUyhNUW",
        "outputId": "a39ad107-33b7-4077-8659-656b96df1922"
      },
      "execution_count": null,
      "outputs": [
        {
          "output_type": "execute_result",
          "data": {
            "text/plain": [
              "3"
            ]
          },
          "metadata": {},
          "execution_count": 5
        }
      ]
    },
    {
      "cell_type": "code",
      "source": [
        "multiple_rotations([1,2,3,4,5],[2,3])"
      ],
      "metadata": {
        "id": "Hxk_WieCN6Yu",
        "outputId": "a3bc4f44-807d-4883-bad0-d427ca0d9923",
        "colab": {
          "base_uri": "https://localhost:8080/"
        }
      },
      "execution_count": null,
      "outputs": [
        {
          "output_type": "execute_result",
          "data": {
            "text/plain": [
              "[[3, 4, 5, 1, 2], [4, 5, 1, 2, 3]]"
            ]
          },
          "metadata": {},
          "execution_count": 4
        }
      ]
    },
    {
      "cell_type": "markdown",
      "source": [
        "**Amazing Subarrays**\n",
        "\n",
        "You are given a string S, and you have to find all the amazing substrings of S.\n",
        "\n",
        "Amazing Substring is one that starts with a vowel (a, e, i, o, u, A, E, I, O, U).\n",
        "\n"
      ],
      "metadata": {
        "id": "h2i3ag401s3T"
      }
    },
    {
      "cell_type": "code",
      "source": [
        "# Importing permutations because order doesn't matter here.\n",
        "from itertools import combinations"
      ],
      "metadata": {
        "id": "fZ1FcnYgN7e7"
      },
      "execution_count": null,
      "outputs": []
    },
    {
      "cell_type": "code",
      "source": [
        "def Amazing_Subarrays(S):\n",
        "\n",
        "  count = 0\n",
        "  amazing_list = []\n",
        "  for i in range(1,len(S)+1):\n",
        "    for iter in combinations(S,i):\n",
        "      amazing_list.append(iter)\n",
        "  print(amazing_list)\n",
        "  for substrings in amazing_list:\n",
        "    if substrings[0] in 'aeiouAEIOU':\n",
        "      count = count + 1\n",
        "  return count"
      ],
      "metadata": {
        "id": "xIIQSFgx1wJ1"
      },
      "execution_count": null,
      "outputs": []
    },
    {
      "cell_type": "code",
      "source": [
        "Amazing_Subarrays('ABEC')"
      ],
      "metadata": {
        "colab": {
          "base_uri": "https://localhost:8080/"
        },
        "id": "Mkfr6ncL1xjt",
        "outputId": "031133c9-ad5d-4502-fd40-16b12296b77e"
      },
      "execution_count": null,
      "outputs": [
        {
          "output_type": "stream",
          "name": "stdout",
          "text": [
            "[('A',), ('B',), ('E',), ('C',), ('A', 'B'), ('A', 'E'), ('A', 'C'), ('B', 'E'), ('B', 'C'), ('E', 'C'), ('A', 'B', 'E'), ('A', 'B', 'C'), ('A', 'E', 'C'), ('B', 'E', 'C'), ('A', 'B', 'E', 'C')]\n"
          ]
        },
        {
          "output_type": "execute_result",
          "data": {
            "text/plain": [
              "10"
            ]
          },
          "metadata": {},
          "execution_count": 3
        }
      ]
    },
    {
      "cell_type": "code",
      "source": [
        "Amazing_Subarrays('abec')"
      ],
      "metadata": {
        "colab": {
          "base_uri": "https://localhost:8080/"
        },
        "id": "NMwT3NsO1zIm",
        "outputId": "f58faeda-b843-4d35-e671-928a8edc6f05"
      },
      "execution_count": null,
      "outputs": [
        {
          "output_type": "stream",
          "name": "stdout",
          "text": [
            "[('a',), ('b',), ('e',), ('c',), ('a', 'b'), ('a', 'e'), ('a', 'c'), ('b', 'e'), ('b', 'c'), ('e', 'c'), ('a', 'b', 'e'), ('a', 'b', 'c'), ('a', 'e', 'c'), ('b', 'e', 'c'), ('a', 'b', 'e', 'c')]\n"
          ]
        },
        {
          "output_type": "execute_result",
          "data": {
            "text/plain": [
              "10"
            ]
          },
          "metadata": {},
          "execution_count": 4
        }
      ]
    },
    {
      "cell_type": "markdown",
      "source": [
        "**Wave_array**\n",
        "\n",
        "Given an array of integers,  sort the array into a wave like array and return it, \n",
        "\n",
        "In other words, arrange the elements into a sequence such that  a1 >= a2 <= a3 >= a4 <= a5.....\n",
        "\n",
        "Example\n",
        "\n",
        "Given [1, 2, 3, 4]\n",
        "\n",
        "One possible answer : [2, 1, 4, 3]\n",
        "Another possible answer : [4, 1, 3, 2]\n",
        "NOTE : If there are multiple answers possible, return the one thats lexicographically smallest. \n",
        "\n",
        "So, in example case, you will return [2, 1, 4, 3]\n",
        "\n"
      ],
      "metadata": {
        "id": "SKERkqrq7XDo"
      }
    },
    {
      "cell_type": "code",
      "source": [
        "def wave_array(A):\n",
        "  A.sort()\n",
        "  for i in range(0,len(A)-1, 2):\n",
        "    A[i],A[i+1] = A[i + 1], A[i]\n",
        "  return A"
      ],
      "metadata": {
        "id": "pYjCQrHh11tW"
      },
      "execution_count": null,
      "outputs": []
    },
    {
      "cell_type": "code",
      "source": [
        "wave_array([1,2,3,4])\n"
      ],
      "metadata": {
        "id": "22yaZrmR7Yw5",
        "outputId": "74aa5b6a-2bb7-4a01-81dd-41008cc66bb2",
        "colab": {
          "base_uri": "https://localhost:8080/"
        }
      },
      "execution_count": null,
      "outputs": [
        {
          "output_type": "execute_result",
          "data": {
            "text/plain": [
              "[2, 1, 4, 3]"
            ]
          },
          "metadata": {},
          "execution_count": 2
        }
      ]
    },
    {
      "cell_type": "markdown",
      "source": [
        "**Reverse the string**\n",
        "\n",
        "Given a string A.\n",
        "\n",
        "Return the string A after reversing the string word by word.\n",
        "\n",
        "NOTE:\n",
        "\n",
        "A sequence of non-space characters constitutes a word.\n",
        "\n",
        "Your reversed string should not contain leading or trailing spaces, even if it is present in the input string.\n",
        "\n",
        "If there are multiple spaces between words, reduce them to a single space in the reversed string.\n",
        "\n",
        "For Example\n",
        "\n",
        "Input 1:\n",
        "\n",
        "    A = \"the sky is blue\"\n",
        "Output 1:\n",
        "\n",
        "    \"blue is sky the\"\n",
        "\n",
        "Input 2:\n",
        "\n",
        "    A = \"this is ib\"\n",
        "Output 2:\n",
        "\n",
        "    \"ib is this\"\n",
        "\n",
        "Input 3:\n",
        "\n",
        "    A = \" hello world \"\n",
        "Output 3:\n",
        "\n",
        "    \"world hello\"\n"
      ],
      "metadata": {
        "id": "-cygIEgOuvE5"
      }
    },
    {
      "cell_type": "code",
      "source": [
        "def Reverse_the_String(string):\n",
        "  split_string = string.split()\n",
        "  split_string.reverse()\n",
        "  return ' '.join(list(split_string))\n"
      ],
      "metadata": {
        "id": "Hl5rNzr5uoPl"
      },
      "execution_count": null,
      "outputs": []
    },
    {
      "cell_type": "code",
      "source": [
        "Reverse_the_String('the sky is blue')"
      ],
      "metadata": {
        "colab": {
          "base_uri": "https://localhost:8080/",
          "height": 35
        },
        "id": "a9RuCsEYuokF",
        "outputId": "1ca27461-4fa7-49e8-d1cf-c97596fa91d2"
      },
      "execution_count": null,
      "outputs": [
        {
          "output_type": "execute_result",
          "data": {
            "text/plain": [
              "'blue is sky the'"
            ],
            "application/vnd.google.colaboratory.intrinsic+json": {
              "type": "string"
            }
          },
          "metadata": {},
          "execution_count": 2
        }
      ]
    },
    {
      "cell_type": "code",
      "source": [
        "Reverse_the_String('this is ib')"
      ],
      "metadata": {
        "colab": {
          "base_uri": "https://localhost:8080/",
          "height": 35
        },
        "id": "f-fhqElXuqgy",
        "outputId": "7d0cb483-211b-46a7-a446-5d9906e9c667"
      },
      "execution_count": null,
      "outputs": [
        {
          "output_type": "execute_result",
          "data": {
            "text/plain": [
              "'ib is this'"
            ],
            "application/vnd.google.colaboratory.intrinsic+json": {
              "type": "string"
            }
          },
          "metadata": {},
          "execution_count": 3
        }
      ]
    },
    {
      "cell_type": "code",
      "source": [
        "Reverse_the_String(\" hello world \")"
      ],
      "metadata": {
        "colab": {
          "base_uri": "https://localhost:8080/",
          "height": 35
        },
        "id": "Hgfv_Hcluru_",
        "outputId": "5abf3622-5895-4409-ec8b-913615a1e874"
      },
      "execution_count": null,
      "outputs": [
        {
          "output_type": "execute_result",
          "data": {
            "text/plain": [
              "'world hello'"
            ],
            "application/vnd.google.colaboratory.intrinsic+json": {
              "type": "string"
            }
          },
          "metadata": {},
          "execution_count": 4
        }
      ]
    },
    {
      "cell_type": "markdown",
      "source": [
        "**Length of Last Word**\n",
        "\n",
        "Given a string s consists of upper/lower-case alphabets and empty space characters ' ', return the length of last word in the string.\n",
        "\n",
        "If the last word does not exist, return 0.\n",
        "\n",
        "Note: A word is defined as a character sequence consists of non-space characters only.\n",
        "\n",
        "Example:\n",
        "\n",
        "Given s = \"Hello World\",\n",
        "\n",
        "\n",
        "return 5 as length(\"World\") = 5."
      ],
      "metadata": {
        "id": "fkAlJpos7a0i"
      }
    },
    {
      "cell_type": "code",
      "source": [
        "def last_word(s):\n",
        "  list_of_words = s.split()\n",
        "  return len(list_of_words[-1])"
      ],
      "metadata": {
        "id": "3D7hABWvus1l"
      },
      "execution_count": null,
      "outputs": []
    },
    {
      "cell_type": "code",
      "source": [
        "last_word(\"Hello World\")"
      ],
      "metadata": {
        "colab": {
          "base_uri": "https://localhost:8080/"
        },
        "id": "16lIZsT17cr1",
        "outputId": "7f8950d5-c3ed-4847-a200-2905e284db9b"
      },
      "execution_count": null,
      "outputs": [
        {
          "output_type": "execute_result",
          "data": {
            "text/plain": [
              "5"
            ]
          },
          "metadata": {},
          "execution_count": 2
        }
      ]
    },
    {
      "cell_type": "markdown",
      "source": [
        "**Palindrome String**\n",
        "\n",
        "\n",
        "\n",
        "Given a string, determine if it is a palindrome. While checking for a palindrome, you have to ignore spaces, case, and all special characters; i.e. consider only alphanumeric characters.\n",
        "\n",
        "Check the sample test case for reference.\n",
        "\n",
        "Example:\n",
        "\n",
        "Input 1:\n",
        "\n",
        "\"A man, a plan, a canal: Panama\"\n",
        "\n",
        "Input 2:\n",
        "\n",
        "\"race a car\"\n",
        "\n",
        "Output and Explanation 1:\n",
        "\n",
        "1\n",
        "\n",
        "The input string after ignoring spaces, and all special characters is \"AmanaplanacanalPanama\" which is a palindrome after ignoring the case.\n",
        "\n",
        "Output and Explanation 2:\n",
        "\n",
        "0\n",
        "\n",
        "The input string after ignoring spaces, and all special characters is \"raceacar\" which is not a palindrome\n",
        "\n",
        " \n",
        "\n",
        "Return 0 / 1 ( 0 for false, 1 for true ) for this problem"
      ],
      "metadata": {
        "id": "ZVsOf4xRL1aK"
      }
    },
    {
      "cell_type": "code",
      "source": [
        "import string\n",
        "string.punctuation"
      ],
      "metadata": {
        "colab": {
          "base_uri": "https://localhost:8080/",
          "height": 35
        },
        "id": "Rj0QhoiQL1qM",
        "outputId": "fcd39c98-fbd6-4ff1-cd24-06eb4db8873e"
      },
      "execution_count": null,
      "outputs": [
        {
          "output_type": "execute_result",
          "data": {
            "text/plain": [
              "'!\"#$%&\\'()*+,-./:;<=>?@[\\\\]^_`{|}~'"
            ],
            "application/vnd.google.colaboratory.intrinsic+json": {
              "type": "string"
            }
          },
          "metadata": {},
          "execution_count": 1
        }
      ]
    },
    {
      "cell_type": "code",
      "source": [
        "def Palindrome(a):\n",
        "  empty_string = ''\n",
        "  for letter in a:\n",
        "    if letter not in string.punctuation:\n",
        "      if letter not in ' ':\n",
        "        empty_string = empty_string + letter\n",
        "  print(empty_string)\n",
        "  if empty_string.lower() == empty_string[::-1].lower():\n",
        "    return 1\n",
        "  else:\n",
        "    return 0"
      ],
      "metadata": {
        "id": "8Iic3lsrL4Ov"
      },
      "execution_count": null,
      "outputs": []
    },
    {
      "cell_type": "code",
      "source": [
        "Palindrome('race a car')"
      ],
      "metadata": {
        "colab": {
          "base_uri": "https://localhost:8080/"
        },
        "id": "X9iZ2Cc-L5mB",
        "outputId": "829f4743-4ac2-43ce-ff6c-d021347fb73f"
      },
      "execution_count": null,
      "outputs": [
        {
          "output_type": "stream",
          "name": "stdout",
          "text": [
            "raceacar\n"
          ]
        },
        {
          "output_type": "execute_result",
          "data": {
            "text/plain": [
              "0"
            ]
          },
          "metadata": {},
          "execution_count": 3
        }
      ]
    },
    {
      "cell_type": "code",
      "source": [
        "Palindrome(\"A man, a plan, a canal: Panama\")"
      ],
      "metadata": {
        "colab": {
          "base_uri": "https://localhost:8080/"
        },
        "id": "72JtfmI5L6zi",
        "outputId": "7969b426-e131-4dc5-d44b-595c02b730ec"
      },
      "execution_count": null,
      "outputs": [
        {
          "output_type": "stream",
          "name": "stdout",
          "text": [
            "AmanaplanacanalPanama\n"
          ]
        },
        {
          "output_type": "execute_result",
          "data": {
            "text/plain": [
              "1"
            ]
          },
          "metadata": {},
          "execution_count": 4
        }
      ]
    },
    {
      "cell_type": "markdown",
      "source": [
        "**Pascal Triangle**\n",
        "\n",
        "Given numRows, generate the first numRows of Pascal's triangle.\n",
        "Pascal's triangle : To generate A[C] in row R, sum up A'[C] and A'[C-1] from previous row R - 1.\n",
        "\n",
        "Example:\n",
        "\n",
        "Given numRows = 5,\n",
        "\n",
        "Return\n",
        "\n",
        "[\n",
        "     [1],\n",
        "     [1,1],\n",
        "     [1,2,1],\n",
        "     [1,3,3,1],\n",
        "     [1,4,6,4,1]\n",
        "]\n"
      ],
      "metadata": {
        "id": "WAkHwy5m11WR"
      }
    },
    {
      "cell_type": "code",
      "source": [
        "list(range(1,2))"
      ],
      "metadata": {
        "colab": {
          "base_uri": "https://localhost:8080/"
        },
        "id": "KZIV8d813ri1",
        "outputId": "5453aa1a-e52a-4ab0-e38c-1bec30507347"
      },
      "execution_count": null,
      "outputs": [
        {
          "output_type": "execute_result",
          "data": {
            "text/plain": [
              "[1]"
            ]
          },
          "metadata": {},
          "execution_count": 9
        }
      ]
    },
    {
      "cell_type": "code",
      "source": [
        "def pascal(A):\n",
        "  ret = []\n",
        "  if A == 0:\n",
        "    return ret\n",
        "  else:\n",
        "    ret = [[1]]\n",
        "    for i in range(2,A + 1):\n",
        "      ret.append([0] * i)\n",
        "      ret[i-1][0] = 1\n",
        "      ret[i - 1][-1] = 1\n",
        "      for j in range(1,i-1):\n",
        "        ret[i-1][j] = ret[i-2][j-1]+ret[i-2][j]\n",
        "  return ret"
      ],
      "metadata": {
        "id": "0kECjSHZL8C1"
      },
      "execution_count": null,
      "outputs": []
    },
    {
      "cell_type": "code",
      "source": [
        "pascal(10)"
      ],
      "metadata": {
        "id": "x9VvCfP314GB",
        "outputId": "c28c8aa0-4cfd-4b0f-bc76-31c35ade84a4",
        "colab": {
          "base_uri": "https://localhost:8080/"
        }
      },
      "execution_count": null,
      "outputs": [
        {
          "output_type": "execute_result",
          "data": {
            "text/plain": [
              "[[1],\n",
              " [1, 1],\n",
              " [1, 2, 1],\n",
              " [1, 3, 3, 1],\n",
              " [1, 4, 6, 4, 1],\n",
              " [1, 5, 10, 10, 5, 1],\n",
              " [1, 6, 15, 20, 15, 6, 1],\n",
              " [1, 7, 21, 35, 35, 21, 7, 1],\n",
              " [1, 8, 28, 56, 70, 56, 28, 8, 1],\n",
              " [1, 9, 36, 84, 126, 126, 84, 36, 9, 1]]"
            ]
          },
          "metadata": {},
          "execution_count": 2
        }
      ]
    },
    {
      "cell_type": "markdown",
      "source": [
        "**Pascal Triangle 2.0**\n",
        "\n",
        "\n",
        "Problem Description\n",
        "\n",
        "Given an index k, return the kth row of the Pascal's triangle.\n",
        "Pascal's triangle: To generate A[C] in row R, sum up A'[C] and A'[C-1] from previous row R - 1.\n",
        "\n",
        "Example:\n",
        "\n",
        "Input : k = 3\n",
        "\n",
        "\n",
        "Return : [1,3,3,1]\n",
        "\n",
        "Note: k is 0 based. k = 0, corresponds to the row [1]. \n",
        "\n",
        "Note: Could you optimize your algorithm to use only O(k) extra space?\n",
        "\n"
      ],
      "metadata": {
        "id": "LQiHyHZ38zzV"
      }
    },
    {
      "cell_type": "code",
      "source": [
        "def pascal(A):\n",
        "  A = A + 1\n",
        "  ret = []\n",
        "  if A == 0:\n",
        "    return ret\n",
        "  else:\n",
        "    ret = [[1]]\n",
        "    for i in range(2,A + 1):\n",
        "      ret.append([0] * i)\n",
        "      ret[i-1][0] = 1\n",
        "      ret[i - 1][-1] = 1\n",
        "      for j in range(1,i-1):\n",
        "        ret[i-1][j] = ret[i-2][j-1]+ret[i-2][j]\n",
        "  return ret[A-1]"
      ],
      "metadata": {
        "id": "Au7vDgrg8y--"
      },
      "execution_count": null,
      "outputs": []
    },
    {
      "cell_type": "code",
      "source": [
        "pascal(3)"
      ],
      "metadata": {
        "colab": {
          "base_uri": "https://localhost:8080/"
        },
        "id": "D0X3h9Vb81X8",
        "outputId": "4c5075e3-b598-4af9-ff6d-b55ca8953157"
      },
      "execution_count": null,
      "outputs": [
        {
          "output_type": "execute_result",
          "data": {
            "text/plain": [
              "[1, 3, 3, 1]"
            ]
          },
          "metadata": {},
          "execution_count": 2
        }
      ]
    },
    {
      "cell_type": "markdown",
      "source": [
        "**Product of All**\n",
        "\n",
        "Given an integer array A.\n",
        "Create an array B such that Bi is the product of all elements of A excluding Ai.\n",
        "Since the products can be too large take modulo 109 +7.\n",
        "\n",
        "Input 1:\n",
        "A = [1, 2, 3, 4]\n",
        "\n",
        "Input 2:\n",
        "\n",
        "A = [9, 9, 9]\n",
        "\n",
        "Output 1:\n",
        "\n",
        "[24, 12, 8, 6]\n",
        "\n",
        "Output 2:\n",
        "\n",
        "[81, 81, 81]"
      ],
      "metadata": {
        "id": "rTFsR-G_QwZW"
      }
    },
    {
      "cell_type": "code",
      "source": [
        "def product(A):\n",
        "  import numpy\n",
        "  product = []\n",
        "  m = 1\n",
        "  for i in A:\n",
        "    product.append(numpy.prod(A[A.index(i)+1:] + A[:A.index(i)]))\n",
        "  return product"
      ],
      "metadata": {
        "id": "LqC5MQLA82sL"
      },
      "execution_count": null,
      "outputs": []
    },
    {
      "cell_type": "code",
      "source": [
        "product([9, 9, 9])"
      ],
      "metadata": {
        "id": "W5EYg1-ZQz2F",
        "outputId": "034bd27b-1159-4e33-c90c-0fd470a269c3",
        "colab": {
          "base_uri": "https://localhost:8080/"
        }
      },
      "execution_count": null,
      "outputs": [
        {
          "output_type": "execute_result",
          "data": {
            "text/plain": [
              "[81, 81, 81]"
            ]
          },
          "metadata": {},
          "execution_count": 2
        }
      ]
    },
    {
      "cell_type": "markdown",
      "source": [
        "**Find Duplicate in Array**.\n",
        "\n",
        "Find the duplicate integer in the array. \n",
        "\n",
        "If there are more than 2 duplicate intergers return any one duplicate interger.\n",
        "\n",
        "If there aren't any duplicate intergers return -1."
      ],
      "metadata": {
        "id": "o9SsaQxHxeZ9"
      }
    },
    {
      "cell_type": "code",
      "source": [
        "def duplicate(A):\n",
        "  dup_list = []\n",
        "  for i in set(A):\n",
        "    if A.count(i) >= 2:\n",
        "      dup_list.append(i)\n",
        "  if len(dup_list) >= 2:\n",
        "    return dup_list[0]\n",
        "  elif len(dup_list) == 1:\n",
        "    return dup_list[0]\n",
        "  else:\n",
        "    return -1"
      ],
      "metadata": {
        "id": "XiyK4pCZxeH9"
      },
      "execution_count": null,
      "outputs": []
    },
    {
      "cell_type": "code",
      "source": [
        "duplicate([3,4,5,1])"
      ],
      "metadata": {
        "id": "xXSwzJv2Q04w",
        "outputId": "75c552fe-e104-459b-defe-61250500f429",
        "colab": {
          "base_uri": "https://localhost:8080/"
        }
      },
      "execution_count": null,
      "outputs": [
        {
          "output_type": "execute_result",
          "data": {
            "text/plain": [
              "-1"
            ]
          },
          "metadata": {},
          "execution_count": 2
        }
      ]
    },
    {
      "cell_type": "markdown",
      "source": [
        "**Set Matrix Zero**\n",
        "\n",
        "Given a matrix, A of size M x N of 0s and 1s. If an element is 0, set its entire row and column to 0.\n",
        "Note: This will be evaluated on the extra memory used. Try to minimize the space and time complexity.\n",
        "\n",
        "Input Format:\n",
        "\n",
        "The first and the only argument of input contains a 2-d integer matrix, A, of size M x N.\n",
        "Output Format:\n",
        "\n",
        "Return a 2-d matrix that satisfies the given conditions.\n",
        "\n",
        "Examples:\n",
        "\n",
        "Input 1:\n",
        "    [   [1, 0, 1],\n",
        "        [1, 1, 1], \n",
        "        [1, 1, 1]   ]\n",
        "\n",
        "\n",
        "Output 1:\n",
        "    [   [0, 0, 0],\n",
        "        [1, 0, 1],\n",
        "        [1, 0, 1]   ]\n",
        "\n",
        "\n",
        "\n",
        "Input 2:\n",
        "    [   [1, 0, 1],\n",
        "        [1, 1, 1],\n",
        "        [1, 0, 1]   ]\n",
        "\n",
        "\n",
        "\n",
        "Output 2:\n",
        "    [   [0, 0, 0],\n",
        "        [1, 0, 1],\n",
        "        [0, 0, 0]   ]"
      ],
      "metadata": {
        "id": "rsrORlCCI8Jl"
      }
    },
    {
      "cell_type": "code",
      "source": [
        "def set_zeros(A):\n",
        "  row = set()\n",
        "  col = set()\n",
        "  for i in range(len(A)):\n",
        "    for j in range(len(A[0])):\n",
        "      if A[i][j] == 0:\n",
        "        row.add(i)\n",
        "        col.add(j)\n",
        "  for i in row:\n",
        "    for j in range(len(A[0])):\n",
        "      A[i][j] = 0\n",
        "  for j in col:\n",
        "    for i in range(len(A)):\n",
        "      A[i][j] = 0\n",
        "  return A"
      ],
      "metadata": {
        "id": "1OxbNGJtxhf6"
      },
      "execution_count": null,
      "outputs": []
    },
    {
      "cell_type": "code",
      "source": [
        "set_zeros([[1, 0, 1],[1, 1, 1],[1, 0, 1]])"
      ],
      "metadata": {
        "id": "6jGac_IKI-Pa",
        "outputId": "0e2ecc1b-b8b3-4e43-c785-b7d26e7647ce",
        "colab": {
          "base_uri": "https://localhost:8080/"
        }
      },
      "execution_count": null,
      "outputs": [
        {
          "output_type": "execute_result",
          "data": {
            "text/plain": [
              "[[0, 0, 0], [1, 0, 1], [0, 0, 0]]"
            ]
          },
          "metadata": {},
          "execution_count": 2
        }
      ]
    },
    {
      "cell_type": "markdown",
      "source": [
        "**Add one to number**\n",
        "\n",
        "Given a non-negative number represented as an array of digits, add 1 to the number ( increment the number represented by the digits ).\n",
        "\n",
        "The digits are stored such that the most significant digit is at the head of the list.\n",
        "\n",
        "Input 1:\n",
        "\n",
        "[1, 2, 3]\n",
        "\n",
        "Output 1:\n",
        "\n",
        "[1, 2, 4]\n",
        "\n",
        "Explanation 1:\n",
        "\n",
        "Given vector is [1, 2, 3].\n",
        "The returned vector should be [1, 2, 4] as 123 + 1 = 124.\n"
      ],
      "metadata": {
        "id": "PN76WiqkBw7e"
      }
    },
    {
      "cell_type": "code",
      "source": [
        "import numpy as np\n",
        "def one_plus(A):\n",
        "  arr = np.array(A)\n",
        "  x = arr + 1\n",
        "  y = x[-1]\n",
        "  A.pop()\n",
        "  A.append(y)\n",
        "  return A"
      ],
      "metadata": {
        "id": "Jew2yBrFI_T3"
      },
      "execution_count": null,
      "outputs": []
    },
    {
      "cell_type": "code",
      "source": [
        "one_plus([1,2,3])"
      ],
      "metadata": {
        "colab": {
          "base_uri": "https://localhost:8080/"
        },
        "id": "jvkehjtPByX9",
        "outputId": "e4e0c0b7-d5f4-45b6-b147-a9b59e216190"
      },
      "execution_count": null,
      "outputs": [
        {
          "output_type": "execute_result",
          "data": {
            "text/plain": [
              "[1, 2, 4]"
            ]
          },
          "metadata": {},
          "execution_count": 4
        }
      ]
    },
    {
      "cell_type": "markdown",
      "source": [
        "**Longest Consecutive Sequence**\n",
        "\n",
        "Given an unsorted array of integers, find the length of the longest consecutive elements sequence.\n",
        "\n",
        "Example: \n",
        "\n",
        "Given [100, 4, 200, 1, 3, 2],\n",
        "\n",
        "The longest consecutive elements sequence is [1, 2, 3, 4]. Return its length: 4."
      ],
      "metadata": {
        "id": "OvLRyiH50IGf"
      }
    },
    {
      "cell_type": "code",
      "source": [
        "def longestConsecutive(A):\n",
        "  A = sorted(A)\n",
        "  con_list = [A[0]]\n",
        "  m = A[0]\n",
        "  for i in A[1:]:\n",
        "    if i - m == 1:\n",
        "      con_list.append(i)\n",
        "      m = i\n",
        "  return len(con_list)"
      ],
      "metadata": {
        "id": "6cQ9iKm4Bzk1"
      },
      "execution_count": null,
      "outputs": []
    },
    {
      "cell_type": "code",
      "source": [
        "longestConsecutive([100, 4, 200, 1, 3, 2])"
      ],
      "metadata": {
        "id": "f9OC-ix00Ksh",
        "outputId": "74083b4c-6b40-489b-9521-48271b7fa2d8",
        "colab": {
          "base_uri": "https://localhost:8080/"
        }
      },
      "execution_count": null,
      "outputs": [
        {
          "output_type": "execute_result",
          "data": {
            "text/plain": [
              "4"
            ]
          },
          "metadata": {},
          "execution_count": 2
        }
      ]
    },
    {
      "cell_type": "markdown",
      "source": [
        "**2 sums**\n",
        "\n",
        "Given an array of integers, find two numbers such that they add up to a specific target number.\n",
        "\n",
        "The function twoSum should return indices of the two numbers such that they add up to the target, where index1 < index2. Please note that your returned answers (both index1 and index2 ) are not zero-based. Put both these numbers in order in an array and return the array from your function ( Looking at the function signature will make things clearer ). Note that, if no pair exists, return empty list."
      ],
      "metadata": {
        "id": "M_-Zpt7w9UPc"
      }
    },
    {
      "cell_type": "code",
      "source": [
        "from itertools import combinations\n",
        "\n",
        "def two_sum(A,target):\n",
        "  emp_list = []\n",
        "  for i in combinations(A,2):\n",
        "    if sum(i) == target:\n",
        "      for j in i:\n",
        "        emp_list.append(A.index(j))\n",
        "  index_1 = min(emp_list)\n",
        "  index_2 = max(emp_list)\n",
        "  return f'index 1 = {index_1} and index 2 = {index_2}'"
      ],
      "metadata": {
        "id": "KCtCceOa9Vja"
      },
      "execution_count": null,
      "outputs": []
    },
    {
      "cell_type": "code",
      "source": [
        "two_sum([2, 7, 11, 15],9)"
      ],
      "metadata": {
        "id": "SK0TsWYf9Wvr",
        "outputId": "21084132-ee06-4209-e668-2d6f831b6c0e",
        "colab": {
          "base_uri": "https://localhost:8080/",
          "height": 35
        }
      },
      "execution_count": null,
      "outputs": [
        {
          "output_type": "execute_result",
          "data": {
            "text/plain": [
              "'index 1 = 0 and index 2 = 1'"
            ],
            "application/vnd.google.colaboratory.intrinsic+json": {
              "type": "string"
            }
          },
          "metadata": {},
          "execution_count": 2
        }
      ]
    },
    {
      "cell_type": "markdown",
      "source": [
        "Checking Prime.\n",
        "\n",
        "This function should take a number as input and output if that number is a prime or not."
      ],
      "metadata": {
        "id": "So_y41hqhEJ6"
      }
    },
    {
      "cell_type": "code",
      "source": [
        "def check_prime(num):\n",
        "  if num > 1:\n",
        "    for i in range(2,num):\n",
        "      if num % i == 0:\n",
        "        print('It is not a prime number')\n",
        "        break\n",
        "    else:\n",
        "      print('It is a prime number')\n",
        "  else:\n",
        "    print('It is not a prime number')"
      ],
      "metadata": {
        "id": "bBJnzHjn752K"
      },
      "execution_count": null,
      "outputs": []
    },
    {
      "cell_type": "code",
      "source": [
        "check_prime(7)"
      ],
      "metadata": {
        "colab": {
          "base_uri": "https://localhost:8080/"
        },
        "id": "5DoqwOfN83b8",
        "outputId": "5b5949c4-669a-4308-fb7b-14944a775c83"
      },
      "execution_count": null,
      "outputs": [
        {
          "output_type": "stream",
          "name": "stdout",
          "text": [
            "It is a prime number\n"
          ]
        }
      ]
    }
  ]
}