{
  "nbformat": 4,
  "nbformat_minor": 0,
  "metadata": {
    "colab": {
      "name": "DSA Pratice.ipynb",
      "provenance": [],
      "authorship_tag": "ABX9TyOhgPijCpWnFaveICHo62+3",
      "include_colab_link": true
    },
    "kernelspec": {
      "name": "python3",
      "display_name": "Python 3"
    },
    "language_info": {
      "name": "python"
    }
  },
  "cells": [
    {
      "cell_type": "markdown",
      "metadata": {
        "id": "view-in-github",
        "colab_type": "text"
      },
      "source": [
        "<a href=\"https://colab.research.google.com/github/Shourya306/DSA-Pratice-Daily/blob/main/DSA_Pratice.ipynb\" target=\"_parent\"><img src=\"https://colab.research.google.com/assets/colab-badge.svg\" alt=\"Open In Colab\"/></a>"
      ]
    },
    {
      "cell_type": "markdown",
      "source": [
        "**Palindromic Words**\n",
        "\n",
        "Given a sentence as a string A.\n",
        "\n",
        "Return the number of palindromic words in the sentence.\n",
        "\n",
        "Input 1:\n",
        "\n",
        "A = \"the fastest racecar\"\n",
        "\n",
        "Input 2:\n",
        "\n",
        "A = \"wow mom\"\n",
        "\n",
        "Output 1:\n",
        "\n",
        "1\n",
        "\n",
        "Output 2:\n",
        "\n",
        "2\n"
      ],
      "metadata": {
        "id": "PyVdISYZs4sq"
      }
    },
    {
      "cell_type": "code",
      "execution_count": null,
      "metadata": {
        "id": "mJuJb6l9XRki"
      },
      "outputs": [],
      "source": [
        "def palindromic_words(string):\n",
        "  count = 0\n",
        "  split_string = string.split(' ')\n",
        "  for word in split_string:\n",
        "    if word == word[::-1]:\n",
        "      count = count + 1\n",
        "  return count"
      ]
    },
    {
      "cell_type": "code",
      "source": [
        "palindromic_words('wow mom')"
      ],
      "metadata": {
        "colab": {
          "base_uri": "https://localhost:8080/"
        },
        "id": "mjIgB9lsz6pa",
        "outputId": "13752f36-93ad-400d-e5ab-3808c46eb5cc"
      },
      "execution_count": null,
      "outputs": [
        {
          "output_type": "execute_result",
          "data": {
            "text/plain": [
              "2"
            ]
          },
          "metadata": {},
          "execution_count": 66
        }
      ]
    },
    {
      "cell_type": "code",
      "source": [
        "palindromic_words('the fastest racecar')"
      ],
      "metadata": {
        "colab": {
          "base_uri": "https://localhost:8080/"
        },
        "id": "YcLmlfAH0DcP",
        "outputId": "d5246632-6da3-4a5d-97ba-56a4565424c4"
      },
      "execution_count": null,
      "outputs": [
        {
          "output_type": "execute_result",
          "data": {
            "text/plain": [
              "1"
            ]
          },
          "metadata": {},
          "execution_count": 67
        }
      ]
    }
  ]
}