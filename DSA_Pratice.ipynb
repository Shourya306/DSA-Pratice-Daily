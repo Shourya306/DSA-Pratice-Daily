{
  "nbformat": 4,
  "nbformat_minor": 0,
  "metadata": {
    "colab": {
      "name": "DSA Pratice.ipynb",
      "provenance": [],
      "authorship_tag": "ABX9TyPZLi7Mtooy4vtw1R9qA9Hz",
      "include_colab_link": true
    },
    "kernelspec": {
      "name": "python3",
      "display_name": "Python 3"
    },
    "language_info": {
      "name": "python"
    }
  },
  "cells": [
    {
      "cell_type": "markdown",
      "metadata": {
        "id": "view-in-github",
        "colab_type": "text"
      },
      "source": [
        "<a href=\"https://colab.research.google.com/github/Shourya306/DSA-Pratice-Daily/blob/main/DSA_Pratice.ipynb\" target=\"_parent\"><img src=\"https://colab.research.google.com/assets/colab-badge.svg\" alt=\"Open In Colab\"/></a>"
      ]
    },
    {
      "cell_type": "markdown",
      "source": [
        "**Palindromic Words**\n",
        "\n",
        "Given a sentence as a string A.\n",
        "\n",
        "Return the number of palindromic words in the sentence.\n",
        "\n",
        "Input 1:\n",
        "\n",
        "A = \"the fastest racecar\"\n",
        "\n",
        "Input 2:\n",
        "\n",
        "A = \"wow mom\"\n",
        "\n",
        "Output 1:\n",
        "\n",
        "1\n",
        "\n",
        "Output 2:\n",
        "\n",
        "2\n"
      ],
      "metadata": {
        "id": "PyVdISYZs4sq"
      }
    },
    {
      "cell_type": "code",
      "execution_count": null,
      "metadata": {
        "id": "mJuJb6l9XRki"
      },
      "outputs": [],
      "source": [
        "def palindromic_words(string):\n",
        "  count = 0\n",
        "  split_string = string.split(' ')\n",
        "  for word in split_string:\n",
        "    if word == word[::-1]:\n",
        "      count = count + 1\n",
        "  return count"
      ]
    },
    {
      "cell_type": "code",
      "source": [
        "palindromic_words('wow mom')"
      ],
      "metadata": {
        "colab": {
          "base_uri": "https://localhost:8080/"
        },
        "id": "mjIgB9lsz6pa",
        "outputId": "13752f36-93ad-400d-e5ab-3808c46eb5cc"
      },
      "execution_count": null,
      "outputs": [
        {
          "output_type": "execute_result",
          "data": {
            "text/plain": [
              "2"
            ]
          },
          "metadata": {},
          "execution_count": 66
        }
      ]
    },
    {
      "cell_type": "code",
      "source": [
        "palindromic_words('the fastest racecar')"
      ],
      "metadata": {
        "colab": {
          "base_uri": "https://localhost:8080/"
        },
        "id": "YcLmlfAH0DcP",
        "outputId": "d5246632-6da3-4a5d-97ba-56a4565424c4"
      },
      "execution_count": null,
      "outputs": [
        {
          "output_type": "execute_result",
          "data": {
            "text/plain": [
              "1"
            ]
          },
          "metadata": {},
          "execution_count": 67
        }
      ]
    },
    {
      "cell_type": "markdown",
      "source": [
        "\n",
        "\n",
        "**Positive Negative**\n",
        "\n",
        "Given an integer array A.\n",
        "\n",
        "Find the number of positive and negative integers in it an return them in an array.\n",
        "\n",
        "Example Input:\n",
        "\n",
        "Input 1:\n",
        "\n",
        "A = [1, 2, 3]\n",
        "\n",
        "Input 2:\n",
        "\n",
        "A = [1, 0, -1]\n",
        "\n",
        "Example Output:\n",
        "\n",
        "Output 1:\n",
        "\n",
        "[3, 0]\n",
        "\n",
        "Output 2:\n",
        "\n",
        "[1, 1]\n",
        "\n",
        "\n",
        "\n",
        "\n"
      ],
      "metadata": {
        "id": "safPS3b4TNw1"
      }
    },
    {
      "cell_type": "code",
      "source": [
        "def count_positive_negetive(array):\n",
        "  '''This function returns the count of positive and negetive numbers in an input array'''\n",
        "  count1 = 0\n",
        "  count2 = 0\n",
        "  for i in array:\n",
        "    if i < 0:\n",
        "      count1 = count1 + 1\n",
        "    elif i > 0:\n",
        "      count2 = count2 + 1\n",
        "  return [count2,count1]\n"
      ],
      "metadata": {
        "id": "Ll2X_qLLTNYh"
      },
      "execution_count": null,
      "outputs": []
    },
    {
      "cell_type": "code",
      "source": [
        "count_positive_negetive([1,2,3])"
      ],
      "metadata": {
        "colab": {
          "base_uri": "https://localhost:8080/"
        },
        "id": "dZxfgP-hX9L5",
        "outputId": "e3d726e1-db3e-4d3d-de15-80872f90626e"
      },
      "execution_count": null,
      "outputs": [
        {
          "output_type": "execute_result",
          "data": {
            "text/plain": [
              "[3, 0]"
            ]
          },
          "metadata": {},
          "execution_count": 25
        }
      ]
    },
    {
      "cell_type": "code",
      "source": [
        "count_positive_negetive([1,0,-1])"
      ],
      "metadata": {
        "colab": {
          "base_uri": "https://localhost:8080/"
        },
        "id": "3cBsZKQEYWQX",
        "outputId": "87d0940c-fd29-4876-dfc2-449eae1aacee"
      },
      "execution_count": null,
      "outputs": [
        {
          "output_type": "execute_result",
          "data": {
            "text/plain": [
              "[1, 1]"
            ]
          },
          "metadata": {},
          "execution_count": 26
        }
      ]
    },
    {
      "cell_type": "code",
      "source": [
        "list(range(10))"
      ],
      "metadata": {
        "colab": {
          "base_uri": "https://localhost:8080/"
        },
        "id": "TX0lUeR6ZfFi",
        "outputId": "a19adecd-4d32-4c20-a25b-9990d2603ab9"
      },
      "execution_count": null,
      "outputs": [
        {
          "output_type": "execute_result",
          "data": {
            "text/plain": [
              "[0, 1, 2, 3, 4, 5, 6, 7, 8, 9]"
            ]
          },
          "metadata": {},
          "execution_count": 29
        }
      ]
    },
    {
      "cell_type": "code",
      "source": [
        "1 in range(10)"
      ],
      "metadata": {
        "colab": {
          "base_uri": "https://localhost:8080/"
        },
        "id": "1DPT5F8fa0Pt",
        "outputId": "f3109f6b-7eff-41de-ac29-52499ff53459"
      },
      "execution_count": null,
      "outputs": [
        {
          "output_type": "execute_result",
          "data": {
            "text/plain": [
              "True"
            ]
          },
          "metadata": {},
          "execution_count": 31
        }
      ]
    },
    {
      "cell_type": "markdown",
      "source": [
        "**Valid Password**\n",
        "\n",
        "Given a password as a character array A.\n",
        "\n",
        "Check if it is valid or not.\n",
        "\n",
        "  * Password should have at least one numerical digit(0-9).\n",
        "\n",
        "  * Password's length should be in between 8 to 15 characters.\n",
        "\n",
        "  * Password should have at least one lowercase letter(a-z).\n",
        "\n",
        "  * Password should have at least one uppercase letter(A-Z).\n",
        "\n",
        "  * Password should have at least one special character ( @, #, %, &, !, $, *)."
      ],
      "metadata": {
        "id": "ac9-YBXgYt7y"
      }
    },
    {
      "cell_type": "code",
      "source": [
        "def valid_password(password):\n",
        "  '''This function checks if the password is valid or not'''\n",
        "  if (len(password)<8 or len(password)>15):\n",
        "    return 0\n",
        "  s=c=d=ss=False\n",
        "  for i in password:\n",
        "    if (i >= 'a' and i <= 'z'):\n",
        "      s = True\n",
        "    elif (i >= 'A' and i <= 'Z'):\n",
        "      c = True\n",
        "    elif (i in \"@#%&!$*\"):\n",
        "      ss = True\n",
        "    elif (i >= '0' and i <= '9'):\n",
        "      d = True\n",
        "  if (s and c and ss and d):\n",
        "    return 1\n",
        "  return 0\n",
        "    "
      ],
      "metadata": {
        "id": "E6vidRIvbwhT"
      },
      "execution_count": null,
      "outputs": []
    },
    {
      "cell_type": "code",
      "source": [
        "valid_password(['S', 'c', 'a', 'l', 'e', 'r', '@', '1'])"
      ],
      "metadata": {
        "colab": {
          "base_uri": "https://localhost:8080/"
        },
        "id": "l3xuKQjszUXL",
        "outputId": "0c4f67f7-0067-4d90-d860-6d7d9ea39c8c"
      },
      "execution_count": null,
      "outputs": [
        {
          "output_type": "execute_result",
          "data": {
            "text/plain": [
              "1"
            ]
          },
          "metadata": {},
          "execution_count": 83
        }
      ]
    },
    {
      "cell_type": "markdown",
      "source": [
        "**Diagonal Flip**\n",
        "\n",
        "Given a square binary matrix of drimensions N×N.\n",
        "Flip the matrix diagonally and return the matrix.\n",
        "\n",
        "Input 1:\n",
        "\n",
        "A = 4\n",
        "\n",
        "B = [[1, 0],\n",
        "     [0, 1]]\n",
        "\n",
        "Input 2:\n",
        "\n",
        "A = [[1, 0],\n",
        "     [1, 0]]\n",
        "Output 1:\n",
        "\n",
        "[[1, 0],\n",
        " [0, 1]]\n",
        " \n",
        "Output 2:\n",
        "\n",
        "[[1, 1],\n",
        " [0, 0]]\n"
      ],
      "metadata": {
        "id": "Ra6izHLV6W7n"
      }
    },
    {
      "cell_type": "code",
      "source": [
        "def transpose(matrix):\n",
        "  '''This function transposes the inputed matrix'''\n",
        "  list_1 = []\n",
        "  list_2 = []\n",
        "  # Appending the values of matrix in both the lists.\n",
        "  list_1.append(matrix[0][0])\n",
        "  list_1.append(matrix[1][0])\n",
        "  list_2.append(matrix[0][1])\n",
        "  list_2.append(matrix[1][1])\n",
        "  return [list_1,list_2]"
      ],
      "metadata": {
        "id": "hEI8zNXL9s5c"
      },
      "execution_count": null,
      "outputs": []
    },
    {
      "cell_type": "code",
      "source": [
        "transpose([[1,0],[1,0]])"
      ],
      "metadata": {
        "colab": {
          "base_uri": "https://localhost:8080/"
        },
        "id": "z-sIKsnO2j1h",
        "outputId": "47fe8573-1fe2-4fd0-bee3-37364cefaf8e"
      },
      "execution_count": null,
      "outputs": [
        {
          "output_type": "execute_result",
          "data": {
            "text/plain": [
              "[[1, 1], [0, 0]]"
            ]
          },
          "metadata": {},
          "execution_count": 20
        }
      ]
    },
    {
      "cell_type": "markdown",
      "source": [
        "**StringInversion**\n",
        "\n",
        "Given a string A. Change the cases of all the characters.\n",
        "If the character is lowercase convert it to uppercase and if the character is uppercase convert it to lowercase."
      ],
      "metadata": {
        "id": "Rx48ZPS1Etp5"
      }
    },
    {
      "cell_type": "code",
      "source": [
        "def stringinversion(string):\n",
        "  empty_string = ''\n",
        "  for letter in string:\n",
        "    if letter.isupper():\n",
        "      empty_string = empty_string + letter.lower()\n",
        "    else:\n",
        "      empty_string = empty_string + letter.upper()\n",
        "  return empty_string"
      ],
      "metadata": {
        "id": "7skkK7A8Eqg-"
      },
      "execution_count": 66,
      "outputs": []
    },
    {
      "cell_type": "code",
      "source": [
        "stringinversion('Sh')"
      ],
      "metadata": {
        "colab": {
          "base_uri": "https://localhost:8080/",
          "height": 35
        },
        "id": "25ZSDOH24aXp",
        "outputId": "b563df7d-21d0-400e-d28a-11bf2a277c66"
      },
      "execution_count": 67,
      "outputs": [
        {
          "output_type": "execute_result",
          "data": {
            "text/plain": [
              "'sH'"
            ],
            "application/vnd.google.colaboratory.intrinsic+json": {
              "type": "string"
            }
          },
          "metadata": {},
          "execution_count": 67
        }
      ]
    }
  ]
}